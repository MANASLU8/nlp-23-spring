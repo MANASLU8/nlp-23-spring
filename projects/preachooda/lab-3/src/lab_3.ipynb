{
  "cells": [
    {
      "cell_type": "code",
      "execution_count": null,
      "metadata": {
        "colab": {
          "base_uri": "https://localhost:8080/"
        },
        "id": "AoROD_vQ6hIT",
        "outputId": "ec960106-44e9-4abe-bde3-6d3e09bdff45"
      },
      "outputs": [
        {
          "output_type": "stream",
          "name": "stdout",
          "text": [
            "Python 3.9.16\n"
          ]
        }
      ],
      "source": [
        "# https://github.com/Ko4eBHuK/nlp-23-spring/tree/main/tasks/task-03\n",
        "!python --version"
      ]
    },
    {
      "cell_type": "code",
      "execution_count": null,
      "metadata": {
        "colab": {
          "base_uri": "https://localhost:8080/"
        },
        "id": "D-DS1Afq6lCC",
        "outputId": "e1e9c551-d573-4c03-ab64-29d1ba697273"
      },
      "outputs": [
        {
          "output_type": "stream",
          "name": "stdout",
          "text": [
            "Mounted at /content/gdrive\n"
          ]
        },
        {
          "output_type": "stream",
          "name": "stderr",
          "text": [
            "[nltk_data] Downloading package stopwords to /root/nltk_data...\n",
            "[nltk_data]   Unzipping corpora/stopwords.zip.\n"
          ]
        }
      ],
      "source": [
        "import regex as re\n",
        "import os\n",
        "import nltk\n",
        "from nltk.corpus import stopwords\n",
        "from google.colab import drive\n",
        "import pandas as pd\n",
        "\n",
        "\n",
        "drive.mount('/content/gdrive')\n",
        "\n",
        "nltk.download('stopwords')\n",
        "\n",
        "assets_url = 'gdrive/My Drive/Colab Notebooks/nlp-2023/assets/train/'\n",
        "stops = set(stopwords.words('english'))"
      ]
    },
    {
      "cell_type": "code",
      "execution_count": null,
      "metadata": {
        "id": "JO2zh8Z4U-iF"
      },
      "outputs": [],
      "source": [
        "token_freq_dict = dict()\n",
        "file_names_contents_dict = dict()\n",
        "S = 0\n",
        "\n",
        "for address, dirs, files in os.walk(assets_url):\n",
        "  for file_name in files:\n",
        "    file_content = []\n",
        "    with open(os.path.join(address, file_name), mode='r') as annotated_document_file:\n",
        "      for sentence in annotated_document_file.read().split('\\n\\n'):\n",
        "        for annotation in sentence.split('\\n'):\n",
        "          word_stem_lem = annotation.split('\\t')\n",
        "          if len(word_stem_lem) == 3:\n",
        "            token = word_stem_lem[0]\n",
        "            # Очистить полученные данные от знаков пунктуации. Можно использовать регулярное выражение: [^\\P{P}-]+;\n",
        "            if not re.match('[^\\P{P}-]+', token):\n",
        "              token = re.sub('[^\\P{P}-]+', '', token) # Привести полученные данные к нижнему регистру;\n",
        "              # Очистить полученные данные от стоп слов. Можно использовать nltk.corpus.stopwords;\n",
        "              if not token in stops:\n",
        "                # Словарь токенов с их частотами по всем данным\n",
        "                token_freq_dict[token] = token_freq_dict.get(token, 0) + 1\n",
        "                file_content.append(token)\n",
        "                S += 1\n",
        "    file_names_contents_dict[file_name] = file_content"
      ]
    },
    {
      "cell_type": "code",
      "execution_count": null,
      "metadata": {
        "id": "LnE-XBA9pyjp"
      },
      "outputs": [],
      "source": [
        "# read token_freq from file\n",
        "assets_generated_url = 'gdrive/My Drive/Colab Notebooks/nlp-2023/assets/task-3/'\n",
        "\n",
        "tokens_freq_df = pd.read_csv(assets_generated_url + 'token-freq.csv')"
      ]
    },
    {
      "cell_type": "code",
      "execution_count": null,
      "metadata": {
        "id": "JOTLSzSgqjxP"
      },
      "outputs": [],
      "source": [
        "tokens_freq_df"
      ]
    },
    {
      "cell_type": "code",
      "execution_count": null,
      "metadata": {
        "id": "iZEc4gViOfal"
      },
      "outputs": [],
      "source": [
        "# 1. Результаты необходимо сохранить во внешние файлы в произвольном формате\n",
        "  # Сохранение словаря частот токенов\n",
        "import csv\n",
        "\n",
        "token_freq_csv_file_url = assets_generated_url + 'token-freq.csv'\n",
        "\n",
        "with open(token_freq_csv_file_url, 'w') as csvfile:\n",
        "        csvfile.write('token,frequency\\n')\n",
        "        for key, value in token_freq_dict.items():\n",
        "            csvfile.write(f\"{key},{value}\\n\")"
      ]
    },
    {
      "cell_type": "code",
      "execution_count": null,
      "metadata": {
        "id": "XZR381EpS72y"
      },
      "outputs": [],
      "source": [
        "top_2k_tokens_by_freq = dict(sorted(token_freq_dict.items(), key=lambda x: x[1], reverse=True)[:2000])"
      ]
    },
    {
      "cell_type": "code",
      "source": [
        "first_50k_docs_with_content = dict(list(file_names_contents_dict.items())[:50000])"
      ],
      "metadata": {
        "id": "20oaKXav6ZSX"
      },
      "execution_count": null,
      "outputs": []
    },
    {
      "cell_type": "code",
      "execution_count": null,
      "metadata": {
        "id": "XeCH1NgEZCam"
      },
      "outputs": [],
      "source": [
        "term_doc_matrix = pd.DataFrame(data=0, index=first_50k_docs_with_content.keys(), columns=top_2k_tokens_by_freq.keys())\n",
        "\n",
        "for doc_name, tokens in first_50k_docs_with_content.items():\n",
        "  all_tokens = len(tokens)\n",
        "  for token in tokens:\n",
        "    if token in top_2k_tokens_by_freq.keys():\n",
        "      term_doc_matrix[token][doc_name] += 1"
      ]
    },
    {
      "cell_type": "code",
      "execution_count": null,
      "metadata": {
        "id": "vBsJ8NFgtNIz"
      },
      "outputs": [],
      "source": [
        "# 1. Результаты необходимо сохранить во внешние файлы в произвольном формате\n",
        "  # Сохранение term-doc-matrix\n",
        "term_doc_matrix.to_csv(assets_generated_url + 'term-doc-matrix.csv')"
      ]
    },
    {
      "cell_type": "code",
      "source": [
        "# read token_freq dictionary and term_doc_matrix from files"
      ],
      "metadata": {
        "id": "rWSQLBUGm8tF"
      },
      "execution_count": null,
      "outputs": []
    },
    {
      "cell_type": "code",
      "execution_count": null,
      "metadata": {
        "id": "WafoWqUXtRui"
      },
      "outputs": [],
      "source": [
        "# 2. Реализовать один из базовых методов векторизации произвольного текста\n",
        "# Разработать метод, позволяющий преобразовать произвольный текст в вектор значений tf-idf,\n",
        "  # с использованием словаря наиболее частых слов и матрицы \"термин-документ\", полученных ранее (на шаге 1);\n",
        "\n",
        "import math\n",
        "\n",
        "def get_TF_vec_of_doc(doc_text, available_tokens):\n",
        "  doc_tokens = re.findall(r'[^\\s.!?\\-;:]+', doc_text)\n",
        "  TF_vec = pd.DataFrame(data=0, index=[0], columns=available_tokens)\n",
        "  for doc_token in doc_tokens:\n",
        "    if doc_token in available_tokens:\n",
        "      TF_vec[doc_token] += 1\n",
        "  for token in available_tokens:\n",
        "    TF_vec[token] = TF_vec[token]/len(available_tokens)\n",
        "  return TF_vec\n",
        "\n",
        "def getIDF_vec(term_doc_matrix, available_tokens):\n",
        "  IDF_vec = pd.DataFrame(data=0, index=[0], columns=available_tokens.keys())\n",
        "  for token in available_tokens:\n",
        "    for index, row in term_doc_matrix.iterrows():\n",
        "      if row[token] != 0:\n",
        "        IDF_vec[token] += 1\n",
        "  for token in available_tokens:\n",
        "    IDF_vec[token] = math.log(term_doc_matrix.shape[0] / IDF_vec[token])\n",
        "  return IDF_vec"
      ]
    },
    {
      "cell_type": "code",
      "source": [
        "get_TF_vec_of_doc('Bebkiovan shmebra wants new anime. Such  two two tow W W W W W W W W W W W W W W W W Wunicly, only it! Reks shemks gres.', top_2k_tokens_by_freq.keys())"
      ],
      "metadata": {
        "colab": {
          "base_uri": "https://localhost:8080/",
          "height": 110
        },
        "id": "atTyhMZz3at3",
        "outputId": "d52c5e88-e8f3-4da5-cf0c-e060fb040abf"
      },
      "execution_count": null,
      "outputs": [
        {
          "output_type": "execute_result",
          "data": {
            "text/plain": [
              "     -  The   US  said     new    A  year  first  company    two  ...  \\\n",
              "0  0.0  0.0  0.0   0.0  0.0005  0.0   0.0    0.0      0.0  0.001  ...   \n",
              "\n",
              "   century  traffic      W  seeded  semi  rain  vendors  hour  stadium  death  \n",
              "0      0.0      0.0  0.008     0.0   0.0   0.0      0.0   0.0      0.0    0.0  \n",
              "\n",
              "[1 rows x 2000 columns]"
            ],
            "text/html": [
              "\n",
              "  <div id=\"df-eac318c6-8018-4acb-900a-b96f18229705\">\n",
              "    <div class=\"colab-df-container\">\n",
              "      <div>\n",
              "<style scoped>\n",
              "    .dataframe tbody tr th:only-of-type {\n",
              "        vertical-align: middle;\n",
              "    }\n",
              "\n",
              "    .dataframe tbody tr th {\n",
              "        vertical-align: top;\n",
              "    }\n",
              "\n",
              "    .dataframe thead th {\n",
              "        text-align: right;\n",
              "    }\n",
              "</style>\n",
              "<table border=\"1\" class=\"dataframe\">\n",
              "  <thead>\n",
              "    <tr style=\"text-align: right;\">\n",
              "      <th></th>\n",
              "      <th>-</th>\n",
              "      <th>The</th>\n",
              "      <th>US</th>\n",
              "      <th>said</th>\n",
              "      <th>new</th>\n",
              "      <th>A</th>\n",
              "      <th>year</th>\n",
              "      <th>first</th>\n",
              "      <th>company</th>\n",
              "      <th>two</th>\n",
              "      <th>...</th>\n",
              "      <th>century</th>\n",
              "      <th>traffic</th>\n",
              "      <th>W</th>\n",
              "      <th>seeded</th>\n",
              "      <th>semi</th>\n",
              "      <th>rain</th>\n",
              "      <th>vendors</th>\n",
              "      <th>hour</th>\n",
              "      <th>stadium</th>\n",
              "      <th>death</th>\n",
              "    </tr>\n",
              "  </thead>\n",
              "  <tbody>\n",
              "    <tr>\n",
              "      <th>0</th>\n",
              "      <td>0.0</td>\n",
              "      <td>0.0</td>\n",
              "      <td>0.0</td>\n",
              "      <td>0.0</td>\n",
              "      <td>0.0005</td>\n",
              "      <td>0.0</td>\n",
              "      <td>0.0</td>\n",
              "      <td>0.0</td>\n",
              "      <td>0.0</td>\n",
              "      <td>0.001</td>\n",
              "      <td>...</td>\n",
              "      <td>0.0</td>\n",
              "      <td>0.0</td>\n",
              "      <td>0.008</td>\n",
              "      <td>0.0</td>\n",
              "      <td>0.0</td>\n",
              "      <td>0.0</td>\n",
              "      <td>0.0</td>\n",
              "      <td>0.0</td>\n",
              "      <td>0.0</td>\n",
              "      <td>0.0</td>\n",
              "    </tr>\n",
              "  </tbody>\n",
              "</table>\n",
              "<p>1 rows × 2000 columns</p>\n",
              "</div>\n",
              "      <button class=\"colab-df-convert\" onclick=\"convertToInteractive('df-eac318c6-8018-4acb-900a-b96f18229705')\"\n",
              "              title=\"Convert this dataframe to an interactive table.\"\n",
              "              style=\"display:none;\">\n",
              "        \n",
              "  <svg xmlns=\"http://www.w3.org/2000/svg\" height=\"24px\"viewBox=\"0 0 24 24\"\n",
              "       width=\"24px\">\n",
              "    <path d=\"M0 0h24v24H0V0z\" fill=\"none\"/>\n",
              "    <path d=\"M18.56 5.44l.94 2.06.94-2.06 2.06-.94-2.06-.94-.94-2.06-.94 2.06-2.06.94zm-11 1L8.5 8.5l.94-2.06 2.06-.94-2.06-.94L8.5 2.5l-.94 2.06-2.06.94zm10 10l.94 2.06.94-2.06 2.06-.94-2.06-.94-.94-2.06-.94 2.06-2.06.94z\"/><path d=\"M17.41 7.96l-1.37-1.37c-.4-.4-.92-.59-1.43-.59-.52 0-1.04.2-1.43.59L10.3 9.45l-7.72 7.72c-.78.78-.78 2.05 0 2.83L4 21.41c.39.39.9.59 1.41.59.51 0 1.02-.2 1.41-.59l7.78-7.78 2.81-2.81c.8-.78.8-2.07 0-2.86zM5.41 20L4 18.59l7.72-7.72 1.47 1.35L5.41 20z\"/>\n",
              "  </svg>\n",
              "      </button>\n",
              "      \n",
              "  <style>\n",
              "    .colab-df-container {\n",
              "      display:flex;\n",
              "      flex-wrap:wrap;\n",
              "      gap: 12px;\n",
              "    }\n",
              "\n",
              "    .colab-df-convert {\n",
              "      background-color: #E8F0FE;\n",
              "      border: none;\n",
              "      border-radius: 50%;\n",
              "      cursor: pointer;\n",
              "      display: none;\n",
              "      fill: #1967D2;\n",
              "      height: 32px;\n",
              "      padding: 0 0 0 0;\n",
              "      width: 32px;\n",
              "    }\n",
              "\n",
              "    .colab-df-convert:hover {\n",
              "      background-color: #E2EBFA;\n",
              "      box-shadow: 0px 1px 2px rgba(60, 64, 67, 0.3), 0px 1px 3px 1px rgba(60, 64, 67, 0.15);\n",
              "      fill: #174EA6;\n",
              "    }\n",
              "\n",
              "    [theme=dark] .colab-df-convert {\n",
              "      background-color: #3B4455;\n",
              "      fill: #D2E3FC;\n",
              "    }\n",
              "\n",
              "    [theme=dark] .colab-df-convert:hover {\n",
              "      background-color: #434B5C;\n",
              "      box-shadow: 0px 1px 3px 1px rgba(0, 0, 0, 0.15);\n",
              "      filter: drop-shadow(0px 1px 2px rgba(0, 0, 0, 0.3));\n",
              "      fill: #FFFFFF;\n",
              "    }\n",
              "  </style>\n",
              "\n",
              "      <script>\n",
              "        const buttonEl =\n",
              "          document.querySelector('#df-eac318c6-8018-4acb-900a-b96f18229705 button.colab-df-convert');\n",
              "        buttonEl.style.display =\n",
              "          google.colab.kernel.accessAllowed ? 'block' : 'none';\n",
              "\n",
              "        async function convertToInteractive(key) {\n",
              "          const element = document.querySelector('#df-eac318c6-8018-4acb-900a-b96f18229705');\n",
              "          const dataTable =\n",
              "            await google.colab.kernel.invokeFunction('convertToInteractive',\n",
              "                                                     [key], {});\n",
              "          if (!dataTable) return;\n",
              "\n",
              "          const docLinkHtml = 'Like what you see? Visit the ' +\n",
              "            '<a target=\"_blank\" href=https://colab.research.google.com/notebooks/data_table.ipynb>data table notebook</a>'\n",
              "            + ' to learn more about interactive tables.';\n",
              "          element.innerHTML = '';\n",
              "          dataTable['output_type'] = 'display_data';\n",
              "          await google.colab.output.renderOutput(dataTable, element);\n",
              "          const docLink = document.createElement('div');\n",
              "          docLink.innerHTML = docLinkHtml;\n",
              "          element.appendChild(docLink);\n",
              "        }\n",
              "      </script>\n",
              "    </div>\n",
              "  </div>\n",
              "  "
            ]
          },
          "metadata": {},
          "execution_count": 51
        }
      ]
    },
    {
      "cell_type": "code",
      "source": [
        "getIDF_vec(term_doc_matrix.head(15), top_2k_tokens_by_freq)"
      ],
      "metadata": {
        "colab": {
          "base_uri": "https://localhost:8080/",
          "height": 174
        },
        "id": "UB9dqSlg-yyE",
        "outputId": "f670b08a-2e44-4fe0-ad7b-9c7dbd69f92e"
      },
      "execution_count": null,
      "outputs": [
        {
          "output_type": "execute_result",
          "data": {
            "text/plain": [
              "          -       The       US     said  new        A     year  first  \\\n",
              "0  0.405465  1.321756  2.70805  2.70805  inf  2.70805  2.70805    inf   \n",
              "\n",
              "   company  two  ...  century  traffic    W  seeded  semi  rain  vendors  \\\n",
              "0      inf  inf  ...      inf      inf  inf     inf   inf   inf      inf   \n",
              "\n",
              "      hour  stadium  death  \n",
              "0  2.70805      inf    inf  \n",
              "\n",
              "[1 rows x 2000 columns]"
            ],
            "text/html": [
              "\n",
              "  <div id=\"df-e93768ab-479a-405f-bf59-9730bc1c92c1\">\n",
              "    <div class=\"colab-df-container\">\n",
              "      <div>\n",
              "<style scoped>\n",
              "    .dataframe tbody tr th:only-of-type {\n",
              "        vertical-align: middle;\n",
              "    }\n",
              "\n",
              "    .dataframe tbody tr th {\n",
              "        vertical-align: top;\n",
              "    }\n",
              "\n",
              "    .dataframe thead th {\n",
              "        text-align: right;\n",
              "    }\n",
              "</style>\n",
              "<table border=\"1\" class=\"dataframe\">\n",
              "  <thead>\n",
              "    <tr style=\"text-align: right;\">\n",
              "      <th></th>\n",
              "      <th>-</th>\n",
              "      <th>The</th>\n",
              "      <th>US</th>\n",
              "      <th>said</th>\n",
              "      <th>new</th>\n",
              "      <th>A</th>\n",
              "      <th>year</th>\n",
              "      <th>first</th>\n",
              "      <th>company</th>\n",
              "      <th>two</th>\n",
              "      <th>...</th>\n",
              "      <th>century</th>\n",
              "      <th>traffic</th>\n",
              "      <th>W</th>\n",
              "      <th>seeded</th>\n",
              "      <th>semi</th>\n",
              "      <th>rain</th>\n",
              "      <th>vendors</th>\n",
              "      <th>hour</th>\n",
              "      <th>stadium</th>\n",
              "      <th>death</th>\n",
              "    </tr>\n",
              "  </thead>\n",
              "  <tbody>\n",
              "    <tr>\n",
              "      <th>0</th>\n",
              "      <td>0.405465</td>\n",
              "      <td>1.321756</td>\n",
              "      <td>2.70805</td>\n",
              "      <td>2.70805</td>\n",
              "      <td>inf</td>\n",
              "      <td>2.70805</td>\n",
              "      <td>2.70805</td>\n",
              "      <td>inf</td>\n",
              "      <td>inf</td>\n",
              "      <td>inf</td>\n",
              "      <td>...</td>\n",
              "      <td>inf</td>\n",
              "      <td>inf</td>\n",
              "      <td>inf</td>\n",
              "      <td>inf</td>\n",
              "      <td>inf</td>\n",
              "      <td>inf</td>\n",
              "      <td>inf</td>\n",
              "      <td>2.70805</td>\n",
              "      <td>inf</td>\n",
              "      <td>inf</td>\n",
              "    </tr>\n",
              "  </tbody>\n",
              "</table>\n",
              "<p>1 rows × 2000 columns</p>\n",
              "</div>\n",
              "      <button class=\"colab-df-convert\" onclick=\"convertToInteractive('df-e93768ab-479a-405f-bf59-9730bc1c92c1')\"\n",
              "              title=\"Convert this dataframe to an interactive table.\"\n",
              "              style=\"display:none;\">\n",
              "        \n",
              "  <svg xmlns=\"http://www.w3.org/2000/svg\" height=\"24px\"viewBox=\"0 0 24 24\"\n",
              "       width=\"24px\">\n",
              "    <path d=\"M0 0h24v24H0V0z\" fill=\"none\"/>\n",
              "    <path d=\"M18.56 5.44l.94 2.06.94-2.06 2.06-.94-2.06-.94-.94-2.06-.94 2.06-2.06.94zm-11 1L8.5 8.5l.94-2.06 2.06-.94-2.06-.94L8.5 2.5l-.94 2.06-2.06.94zm10 10l.94 2.06.94-2.06 2.06-.94-2.06-.94-.94-2.06-.94 2.06-2.06.94z\"/><path d=\"M17.41 7.96l-1.37-1.37c-.4-.4-.92-.59-1.43-.59-.52 0-1.04.2-1.43.59L10.3 9.45l-7.72 7.72c-.78.78-.78 2.05 0 2.83L4 21.41c.39.39.9.59 1.41.59.51 0 1.02-.2 1.41-.59l7.78-7.78 2.81-2.81c.8-.78.8-2.07 0-2.86zM5.41 20L4 18.59l7.72-7.72 1.47 1.35L5.41 20z\"/>\n",
              "  </svg>\n",
              "      </button>\n",
              "      \n",
              "  <style>\n",
              "    .colab-df-container {\n",
              "      display:flex;\n",
              "      flex-wrap:wrap;\n",
              "      gap: 12px;\n",
              "    }\n",
              "\n",
              "    .colab-df-convert {\n",
              "      background-color: #E8F0FE;\n",
              "      border: none;\n",
              "      border-radius: 50%;\n",
              "      cursor: pointer;\n",
              "      display: none;\n",
              "      fill: #1967D2;\n",
              "      height: 32px;\n",
              "      padding: 0 0 0 0;\n",
              "      width: 32px;\n",
              "    }\n",
              "\n",
              "    .colab-df-convert:hover {\n",
              "      background-color: #E2EBFA;\n",
              "      box-shadow: 0px 1px 2px rgba(60, 64, 67, 0.3), 0px 1px 3px 1px rgba(60, 64, 67, 0.15);\n",
              "      fill: #174EA6;\n",
              "    }\n",
              "\n",
              "    [theme=dark] .colab-df-convert {\n",
              "      background-color: #3B4455;\n",
              "      fill: #D2E3FC;\n",
              "    }\n",
              "\n",
              "    [theme=dark] .colab-df-convert:hover {\n",
              "      background-color: #434B5C;\n",
              "      box-shadow: 0px 1px 3px 1px rgba(0, 0, 0, 0.15);\n",
              "      filter: drop-shadow(0px 1px 2px rgba(0, 0, 0, 0.3));\n",
              "      fill: #FFFFFF;\n",
              "    }\n",
              "  </style>\n",
              "\n",
              "      <script>\n",
              "        const buttonEl =\n",
              "          document.querySelector('#df-e93768ab-479a-405f-bf59-9730bc1c92c1 button.colab-df-convert');\n",
              "        buttonEl.style.display =\n",
              "          google.colab.kernel.accessAllowed ? 'block' : 'none';\n",
              "\n",
              "        async function convertToInteractive(key) {\n",
              "          const element = document.querySelector('#df-e93768ab-479a-405f-bf59-9730bc1c92c1');\n",
              "          const dataTable =\n",
              "            await google.colab.kernel.invokeFunction('convertToInteractive',\n",
              "                                                     [key], {});\n",
              "          if (!dataTable) return;\n",
              "\n",
              "          const docLinkHtml = 'Like what you see? Visit the ' +\n",
              "            '<a target=\"_blank\" href=https://colab.research.google.com/notebooks/data_table.ipynb>data table notebook</a>'\n",
              "            + ' to learn more about interactive tables.';\n",
              "          element.innerHTML = '';\n",
              "          dataTable['output_type'] = 'display_data';\n",
              "          await google.colab.output.renderOutput(dataTable, element);\n",
              "          const docLink = document.createElement('div');\n",
              "          docLink.innerHTML = docLinkHtml;\n",
              "          element.appendChild(docLink);\n",
              "        }\n",
              "      </script>\n",
              "    </div>\n",
              "  </div>\n",
              "  "
            ]
          },
          "metadata": {},
          "execution_count": 55
        }
      ]
    },
    {
      "cell_type": "code",
      "execution_count": null,
      "metadata": {
        "id": "ShrCKy67vEpq"
      },
      "outputs": [],
      "source": [
        "# 3. Реализовать метод, позволяющий векторизовать произвольный текст с использованием нейронных сетей (предлагается использовать стандартную реализацию модели w2v или glove). \n",
        "# Выбранную модель необходимо обучить на обучающей выборке."
      ]
    },
    {
      "cell_type": "code",
      "execution_count": null,
      "metadata": {
        "id": "X1u2NO6xvNwR"
      },
      "outputs": [],
      "source": [
        "# 4. С использованием библиотечной реализации метода подсчета косинусного расстояния между векторными представлениями текста, \n",
        "# продемонстрировать на примерах, что для семантически близких слов модель генерирует вектора, для которых косинусное расстояние меньше, чем для семантически далеких токенов"
      ]
    },
    {
      "cell_type": "code",
      "execution_count": null,
      "metadata": {
        "id": "aZ5jRwldvq74"
      },
      "outputs": [],
      "source": [
        "# 5. Применить какой-либо метод сокращения размерностей полученных одним из базовых способов векторизации, выбранным ранее (см. пункт 2), векторов"
      ]
    },
    {
      "cell_type": "code",
      "execution_count": null,
      "metadata": {
        "id": "O-wbCmyZv5xX"
      },
      "outputs": [],
      "source": [
        "# 6. С использованием разработанного метода подсчета косинусного расстояния сравнить эффективность метода векторизации с использованием \n",
        "#  нейронных сетей и эффективность базовых методов векторизации с последующим сокращением размерности.\n",
        "# Сформулировать вывод о том, применение какого способа позволяет получить лучшие результаты на выбранном датасете."
      ]
    },
    {
      "cell_type": "code",
      "execution_count": null,
      "metadata": {
        "id": "evBXDL_XwDLn"
      },
      "outputs": [],
      "source": [
        "# 7. Реализовать метод, осуществляющий векторизацию произвольного текста по следующему алгоритму: https://github.com/Ko4eBHuK/nlp-23-spring/tree/main/tasks/task-03"
      ]
    },
    {
      "cell_type": "code",
      "execution_count": null,
      "metadata": {
        "id": "npBN4jT3wV2N"
      },
      "outputs": [],
      "source": [
        "# 8. Выполнить векторизацию тестовой выборки с использованием метода, реализованного на предыдущем шаге."
      ]
    }
  ],
  "metadata": {
    "colab": {
      "provenance": []
    },
    "gpuClass": "standard",
    "kernelspec": {
      "display_name": "Python 3",
      "name": "python3"
    },
    "language_info": {
      "name": "python"
    }
  },
  "nbformat": 4,
  "nbformat_minor": 0
}