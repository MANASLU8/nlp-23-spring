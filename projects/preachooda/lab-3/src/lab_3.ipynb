{
  "cells": [
    {
      "cell_type": "code",
      "execution_count": null,
      "metadata": {
        "colab": {
          "base_uri": "https://localhost:8080/"
        },
        "id": "AoROD_vQ6hIT",
        "outputId": "92109a08-60c0-4fa2-9036-6a819444345a"
      },
      "outputs": [
        {
          "output_type": "stream",
          "name": "stdout",
          "text": [
            "Python 3.9.16\n"
          ]
        }
      ],
      "source": [
        "# https://github.com/Ko4eBHuK/nlp-23-spring/tree/main/tasks/task-03\n",
        "!python --version"
      ]
    },
    {
      "cell_type": "code",
      "execution_count": null,
      "metadata": {
        "colab": {
          "base_uri": "https://localhost:8080/"
        },
        "id": "D-DS1Afq6lCC",
        "outputId": "5b253dae-e40b-4fc1-9fd5-3c5e5bda5051"
      },
      "outputs": [
        {
          "output_type": "stream",
          "name": "stdout",
          "text": [
            "Drive already mounted at /content/gdrive; to attempt to forcibly remount, call drive.mount(\"/content/gdrive\", force_remount=True).\n"
          ]
        },
        {
          "output_type": "stream",
          "name": "stderr",
          "text": [
            "[nltk_data] Downloading package stopwords to /root/nltk_data...\n",
            "[nltk_data]   Package stopwords is already up-to-date!\n"
          ]
        }
      ],
      "source": [
        "import regex as re\n",
        "import os\n",
        "import nltk\n",
        "from nltk.corpus import stopwords\n",
        "from google.colab import drive\n",
        "import pandas as pd\n",
        "\n",
        "\n",
        "drive.mount('/content/gdrive')\n",
        "\n",
        "nltk.download('stopwords')\n",
        "\n",
        "assets_url = 'gdrive/My Drive/Colab Notebooks/nlp-2023/assets/train/'\n",
        "assets_generated_url = 'gdrive/My Drive/Colab Notebooks/nlp-2023/assets/task-3/'\n",
        "stops = set(stopwords.words('english'))"
      ]
    },
    {
      "cell_type": "code",
      "execution_count": null,
      "metadata": {
        "id": "JO2zh8Z4U-iF"
      },
      "outputs": [],
      "source": [
        "token_freq_dict = dict()\n",
        "file_names_contents_dict = dict()\n",
        "S = 0\n",
        "\n",
        "for address, dirs, files in os.walk(assets_url):\n",
        "  for file_name in files:\n",
        "    file_content = []\n",
        "    with open(os.path.join(address, file_name), mode='r') as annotated_document_file:\n",
        "      for sentence in annotated_document_file.read().split('\\n\\n'):\n",
        "        for annotation in sentence.split('\\n'):\n",
        "          word_stem_lem = annotation.split('\\t')\n",
        "          if len(word_stem_lem) == 3:\n",
        "            token = word_stem_lem[0]\n",
        "            # Очистить полученные данные от знаков пунктуации. Можно использовать регулярное выражение: [^\\P{P}-]+;\n",
        "            if not re.match('[^\\P{P}-]+', token):\n",
        "              token = re.sub('[^\\P{P}-]+', '', token) # Привести полученные данные к нижнему регистру;\n",
        "              # Очистить полученные данные от стоп слов. Можно использовать nltk.corpus.stopwords;\n",
        "              if not token in stops:\n",
        "                # Словарь токенов с их частотами по всем данным\n",
        "                token_freq_dict[token] = token_freq_dict.get(token, 0) + 1\n",
        "                file_content.append(token)\n",
        "                S += 1\n",
        "    file_names_contents_dict[file_name] = file_content"
      ]
    },
    {
      "cell_type": "code",
      "execution_count": null,
      "metadata": {
        "id": "LnE-XBA9pyjp"
      },
      "outputs": [],
      "source": [
        "# save files-contents dict\n",
        "with open(assets_generated_url + 'file-content-dict.tsv', 'w') as tsvfile:\n",
        "        for key, value in file_names_contents_dict.items():\n",
        "            tsvfile.write(f\"{key}\\t{value}\\n\")"
      ]
    },
    {
      "cell_type": "code",
      "source": [
        "# read file-content-dict, token_freq and term-doc-matrix from files\n",
        "file_names_contents_df = pd.read_table(assets_generated_url + 'file-content-dict.tsv', )\n",
        "tokens_freq_df = pd.read_csv(assets_generated_url + 'token-freq.csv')"
      ],
      "metadata": {
        "id": "DbWAyBL2bCti"
      },
      "execution_count": null,
      "outputs": []
    },
    {
      "cell_type": "code",
      "source": [
        "term_doc_matrix_df = pd.read_csv(assets_generated_url + 'term-doc-matrix.csv', index_col=0)"
      ],
      "metadata": {
        "id": "4IPXVt3qCdBq"
      },
      "execution_count": null,
      "outputs": []
    },
    {
      "cell_type": "code",
      "source": [
        "file_names_contents_df"
      ],
      "metadata": {
        "colab": {
          "base_uri": "https://localhost:8080/",
          "height": 424
        },
        "id": "uRUhOSyh-kn9",
        "outputId": "cb61c2c3-549d-461d-96cd-62754327033f"
      },
      "execution_count": null,
      "outputs": [
        {
          "output_type": "execute_result",
          "data": {
            "text/plain": [
              "         file_name                                            content\n",
              "0       115829.tsv  ['Alberta', 'says', 'public', 'inquiry', 'Calg...\n",
              "1       115832.tsv  ['Abbas', 'Calls', 'Palestinians', 'Drop', 'Ar...\n",
              "2       115843.tsv  ['Worlds', 'Tallest', 'Bridge', 'Inaugurated',...\n",
              "3       115845.tsv  ['Iran', 'May', 'Negotiate', 'With', 'US', 'Ov...\n",
              "4       115846.tsv  ['Syria', 'Bomb', 'shows', 'Israel', 'want', '...\n",
              "...            ...                                                ...\n",
              "119995    3012.tsv  ['Juniper', 'engineers', 'depart', 'start', '-...\n",
              "119996    3013.tsv  ['Real', 'gets', 'flamed', 'iPod', 'campaign',...\n",
              "119997    3014.tsv  ['Hynix', 'build', 'chip', 'plant', 'China', '...\n",
              "119998    3015.tsv  ['Researchers', 'find', 'holes', 'XP', 'SP2', ...\n",
              "119999    3016.tsv  ['Google', 'faces', 'another', 'trademark', 's...\n",
              "\n",
              "[120000 rows x 2 columns]"
            ],
            "text/html": [
              "\n",
              "  <div id=\"df-505f6813-250e-42a4-b425-1cd66fb40ede\">\n",
              "    <div class=\"colab-df-container\">\n",
              "      <div>\n",
              "<style scoped>\n",
              "    .dataframe tbody tr th:only-of-type {\n",
              "        vertical-align: middle;\n",
              "    }\n",
              "\n",
              "    .dataframe tbody tr th {\n",
              "        vertical-align: top;\n",
              "    }\n",
              "\n",
              "    .dataframe thead th {\n",
              "        text-align: right;\n",
              "    }\n",
              "</style>\n",
              "<table border=\"1\" class=\"dataframe\">\n",
              "  <thead>\n",
              "    <tr style=\"text-align: right;\">\n",
              "      <th></th>\n",
              "      <th>file_name</th>\n",
              "      <th>content</th>\n",
              "    </tr>\n",
              "  </thead>\n",
              "  <tbody>\n",
              "    <tr>\n",
              "      <th>0</th>\n",
              "      <td>115829.tsv</td>\n",
              "      <td>['Alberta', 'says', 'public', 'inquiry', 'Calg...</td>\n",
              "    </tr>\n",
              "    <tr>\n",
              "      <th>1</th>\n",
              "      <td>115832.tsv</td>\n",
              "      <td>['Abbas', 'Calls', 'Palestinians', 'Drop', 'Ar...</td>\n",
              "    </tr>\n",
              "    <tr>\n",
              "      <th>2</th>\n",
              "      <td>115843.tsv</td>\n",
              "      <td>['Worlds', 'Tallest', 'Bridge', 'Inaugurated',...</td>\n",
              "    </tr>\n",
              "    <tr>\n",
              "      <th>3</th>\n",
              "      <td>115845.tsv</td>\n",
              "      <td>['Iran', 'May', 'Negotiate', 'With', 'US', 'Ov...</td>\n",
              "    </tr>\n",
              "    <tr>\n",
              "      <th>4</th>\n",
              "      <td>115846.tsv</td>\n",
              "      <td>['Syria', 'Bomb', 'shows', 'Israel', 'want', '...</td>\n",
              "    </tr>\n",
              "    <tr>\n",
              "      <th>...</th>\n",
              "      <td>...</td>\n",
              "      <td>...</td>\n",
              "    </tr>\n",
              "    <tr>\n",
              "      <th>119995</th>\n",
              "      <td>3012.tsv</td>\n",
              "      <td>['Juniper', 'engineers', 'depart', 'start', '-...</td>\n",
              "    </tr>\n",
              "    <tr>\n",
              "      <th>119996</th>\n",
              "      <td>3013.tsv</td>\n",
              "      <td>['Real', 'gets', 'flamed', 'iPod', 'campaign',...</td>\n",
              "    </tr>\n",
              "    <tr>\n",
              "      <th>119997</th>\n",
              "      <td>3014.tsv</td>\n",
              "      <td>['Hynix', 'build', 'chip', 'plant', 'China', '...</td>\n",
              "    </tr>\n",
              "    <tr>\n",
              "      <th>119998</th>\n",
              "      <td>3015.tsv</td>\n",
              "      <td>['Researchers', 'find', 'holes', 'XP', 'SP2', ...</td>\n",
              "    </tr>\n",
              "    <tr>\n",
              "      <th>119999</th>\n",
              "      <td>3016.tsv</td>\n",
              "      <td>['Google', 'faces', 'another', 'trademark', 's...</td>\n",
              "    </tr>\n",
              "  </tbody>\n",
              "</table>\n",
              "<p>120000 rows × 2 columns</p>\n",
              "</div>\n",
              "      <button class=\"colab-df-convert\" onclick=\"convertToInteractive('df-505f6813-250e-42a4-b425-1cd66fb40ede')\"\n",
              "              title=\"Convert this dataframe to an interactive table.\"\n",
              "              style=\"display:none;\">\n",
              "        \n",
              "  <svg xmlns=\"http://www.w3.org/2000/svg\" height=\"24px\"viewBox=\"0 0 24 24\"\n",
              "       width=\"24px\">\n",
              "    <path d=\"M0 0h24v24H0V0z\" fill=\"none\"/>\n",
              "    <path d=\"M18.56 5.44l.94 2.06.94-2.06 2.06-.94-2.06-.94-.94-2.06-.94 2.06-2.06.94zm-11 1L8.5 8.5l.94-2.06 2.06-.94-2.06-.94L8.5 2.5l-.94 2.06-2.06.94zm10 10l.94 2.06.94-2.06 2.06-.94-2.06-.94-.94-2.06-.94 2.06-2.06.94z\"/><path d=\"M17.41 7.96l-1.37-1.37c-.4-.4-.92-.59-1.43-.59-.52 0-1.04.2-1.43.59L10.3 9.45l-7.72 7.72c-.78.78-.78 2.05 0 2.83L4 21.41c.39.39.9.59 1.41.59.51 0 1.02-.2 1.41-.59l7.78-7.78 2.81-2.81c.8-.78.8-2.07 0-2.86zM5.41 20L4 18.59l7.72-7.72 1.47 1.35L5.41 20z\"/>\n",
              "  </svg>\n",
              "      </button>\n",
              "      \n",
              "  <style>\n",
              "    .colab-df-container {\n",
              "      display:flex;\n",
              "      flex-wrap:wrap;\n",
              "      gap: 12px;\n",
              "    }\n",
              "\n",
              "    .colab-df-convert {\n",
              "      background-color: #E8F0FE;\n",
              "      border: none;\n",
              "      border-radius: 50%;\n",
              "      cursor: pointer;\n",
              "      display: none;\n",
              "      fill: #1967D2;\n",
              "      height: 32px;\n",
              "      padding: 0 0 0 0;\n",
              "      width: 32px;\n",
              "    }\n",
              "\n",
              "    .colab-df-convert:hover {\n",
              "      background-color: #E2EBFA;\n",
              "      box-shadow: 0px 1px 2px rgba(60, 64, 67, 0.3), 0px 1px 3px 1px rgba(60, 64, 67, 0.15);\n",
              "      fill: #174EA6;\n",
              "    }\n",
              "\n",
              "    [theme=dark] .colab-df-convert {\n",
              "      background-color: #3B4455;\n",
              "      fill: #D2E3FC;\n",
              "    }\n",
              "\n",
              "    [theme=dark] .colab-df-convert:hover {\n",
              "      background-color: #434B5C;\n",
              "      box-shadow: 0px 1px 3px 1px rgba(0, 0, 0, 0.15);\n",
              "      filter: drop-shadow(0px 1px 2px rgba(0, 0, 0, 0.3));\n",
              "      fill: #FFFFFF;\n",
              "    }\n",
              "  </style>\n",
              "\n",
              "      <script>\n",
              "        const buttonEl =\n",
              "          document.querySelector('#df-505f6813-250e-42a4-b425-1cd66fb40ede button.colab-df-convert');\n",
              "        buttonEl.style.display =\n",
              "          google.colab.kernel.accessAllowed ? 'block' : 'none';\n",
              "\n",
              "        async function convertToInteractive(key) {\n",
              "          const element = document.querySelector('#df-505f6813-250e-42a4-b425-1cd66fb40ede');\n",
              "          const dataTable =\n",
              "            await google.colab.kernel.invokeFunction('convertToInteractive',\n",
              "                                                     [key], {});\n",
              "          if (!dataTable) return;\n",
              "\n",
              "          const docLinkHtml = 'Like what you see? Visit the ' +\n",
              "            '<a target=\"_blank\" href=https://colab.research.google.com/notebooks/data_table.ipynb>data table notebook</a>'\n",
              "            + ' to learn more about interactive tables.';\n",
              "          element.innerHTML = '';\n",
              "          dataTable['output_type'] = 'display_data';\n",
              "          await google.colab.output.renderOutput(dataTable, element);\n",
              "          const docLink = document.createElement('div');\n",
              "          docLink.innerHTML = docLinkHtml;\n",
              "          element.appendChild(docLink);\n",
              "        }\n",
              "      </script>\n",
              "    </div>\n",
              "  </div>\n",
              "  "
            ]
          },
          "metadata": {},
          "execution_count": 53
        }
      ]
    },
    {
      "cell_type": "code",
      "execution_count": null,
      "metadata": {
        "id": "JOTLSzSgqjxP"
      },
      "outputs": [],
      "source": [
        "tokens_freq_df"
      ]
    },
    {
      "cell_type": "code",
      "source": [
        "term_doc_matrix_df"
      ],
      "metadata": {
        "id": "ZCkLpbmTbsng"
      },
      "execution_count": null,
      "outputs": []
    },
    {
      "cell_type": "code",
      "execution_count": null,
      "metadata": {
        "id": "iZEc4gViOfal"
      },
      "outputs": [],
      "source": [
        "# 1. Результаты необходимо сохранить во внешние файлы в произвольном формате\n",
        "  # Сохранение словаря частот токенов\n",
        "import csv\n",
        "\n",
        "token_freq_csv_file_url = assets_generated_url + 'token-freq.csv'\n",
        "\n",
        "with open(token_freq_csv_file_url, 'w') as csvfile:\n",
        "        csvfile.write('token,frequency\\n')\n",
        "        for key, value in token_freq_dict.items():\n",
        "            csvfile.write(f\"{key},{value}\\n\")"
      ]
    },
    {
      "cell_type": "code",
      "execution_count": null,
      "metadata": {
        "id": "XZR381EpS72y"
      },
      "outputs": [],
      "source": [
        "top_2k_tokens_by_freq = dict(sorted(dict(zip(tokens_freq_df.token, tokens_freq_df.frequency)).items(), key=lambda x: x[1], reverse=True)[:2000])"
      ]
    },
    {
      "cell_type": "code",
      "source": [
        "first_50k_docs_with_content = dict(list(dict(zip(file_names_contents_df.file_name, file_names_contents_df.content)).items())[:50000])"
      ],
      "metadata": {
        "id": "20oaKXav6ZSX"
      },
      "execution_count": null,
      "outputs": []
    },
    {
      "cell_type": "code",
      "source": [
        "first_50k_docs_with_content"
      ],
      "metadata": {
        "id": "1rMxcRPbCJjl"
      },
      "execution_count": null,
      "outputs": []
    },
    {
      "cell_type": "code",
      "execution_count": null,
      "metadata": {
        "id": "XeCH1NgEZCam"
      },
      "outputs": [],
      "source": [
        "# generate term-doc matrix\n",
        "term_doc_matrix = pd.DataFrame(data=0, index=first_50k_docs_with_content.keys(), columns=top_2k_tokens_by_freq.keys())\n",
        "\n",
        "for doc_name, tokens in first_50k_docs_with_content.items():\n",
        "  all_tokens = len(tokens)\n",
        "  for token in tokens:\n",
        "    if token in top_2k_tokens_by_freq.keys():\n",
        "      term_doc_matrix[token][doc_name] += 1\n",
        "\n",
        "# 1. Результаты необходимо сохранить во внешние файлы в произвольном формате\n",
        "  # Сохранение term-doc-matrix\n",
        "term_doc_matrix.to_csv(assets_generated_url + 'term-doc-matrix.csv')"
      ]
    },
    {
      "cell_type": "code",
      "execution_count": null,
      "metadata": {
        "id": "WafoWqUXtRui"
      },
      "outputs": [],
      "source": [
        "# 2. Реализовать один из базовых методов векторизации произвольного текста\n",
        "# Разработать метод, позволяющий преобразовать произвольный текст в вектор значений tf-idf,\n",
        "  # с использованием словаря наиболее частых слов и матрицы \"термин-документ\", полученных ранее (на шаге 1);\n",
        "\n",
        "import math\n",
        "\n",
        "def get_TF_vec_of_doc(doc_text, available_tokens):\n",
        "  doc_tokens = re.findall(r'[^\\s.!?\\-;:]+', doc_text)\n",
        "  TF_vec = pd.DataFrame(data=0, index=[0], columns=available_tokens)\n",
        "  for doc_token in doc_tokens:\n",
        "    if doc_token in available_tokens:\n",
        "      TF_vec[doc_token] += 1\n",
        "  for token in available_tokens:\n",
        "    TF_vec[token] = TF_vec[token]/len(available_tokens)\n",
        "  return TF_vec\n",
        "\n",
        "def getIDF_vec(term_doc_matrix, available_tokens):\n",
        "  IDF_vec = pd.DataFrame(data=0, index=[0], columns=available_tokens.keys())\n",
        "  for token in available_tokens:\n",
        "    for index, row in term_doc_matrix.iterrows():\n",
        "      if row[token] != 0:\n",
        "        IDF_vec[token] += 1\n",
        "  for token in available_tokens:\n",
        "    if IDF_vec[token][0] != 0:\n",
        "      IDF_vec[token] = math.log(term_doc_matrix.shape[0] / IDF_vec[token])\n",
        "  return IDF_vec"
      ]
    },
    {
      "cell_type": "code",
      "source": [
        "get_TF_vec_of_doc('Bebkiovan shmebra wants new anime. Such  two two tow W W W W W W W W W W W W W W W W Wunicly, only it! Reks shemks gres.', top_2k_tokens_by_freq.keys())"
      ],
      "metadata": {
        "colab": {
          "base_uri": "https://localhost:8080/",
          "height": 110
        },
        "id": "atTyhMZz3at3",
        "outputId": "a97c3700-439f-4a5f-a9f0-9f7beb7757f4"
      },
      "execution_count": null,
      "outputs": [
        {
          "output_type": "execute_result",
          "data": {
            "text/plain": [
              "     -  The   US  said     new    A  year  first  company    two  ...  \\\n",
              "0  0.0  0.0  0.0   0.0  0.0005  0.0   0.0    0.0      0.0  0.001  ...   \n",
              "\n",
              "   century  traffic      W  seeded  semi  rain  vendors  hour  stadium  death  \n",
              "0      0.0      0.0  0.008     0.0   0.0   0.0      0.0   0.0      0.0    0.0  \n",
              "\n",
              "[1 rows x 2000 columns]"
            ],
            "text/html": [
              "\n",
              "  <div id=\"df-ed482884-4fd8-4e74-b995-a2a99e6cb855\">\n",
              "    <div class=\"colab-df-container\">\n",
              "      <div>\n",
              "<style scoped>\n",
              "    .dataframe tbody tr th:only-of-type {\n",
              "        vertical-align: middle;\n",
              "    }\n",
              "\n",
              "    .dataframe tbody tr th {\n",
              "        vertical-align: top;\n",
              "    }\n",
              "\n",
              "    .dataframe thead th {\n",
              "        text-align: right;\n",
              "    }\n",
              "</style>\n",
              "<table border=\"1\" class=\"dataframe\">\n",
              "  <thead>\n",
              "    <tr style=\"text-align: right;\">\n",
              "      <th></th>\n",
              "      <th>-</th>\n",
              "      <th>The</th>\n",
              "      <th>US</th>\n",
              "      <th>said</th>\n",
              "      <th>new</th>\n",
              "      <th>A</th>\n",
              "      <th>year</th>\n",
              "      <th>first</th>\n",
              "      <th>company</th>\n",
              "      <th>two</th>\n",
              "      <th>...</th>\n",
              "      <th>century</th>\n",
              "      <th>traffic</th>\n",
              "      <th>W</th>\n",
              "      <th>seeded</th>\n",
              "      <th>semi</th>\n",
              "      <th>rain</th>\n",
              "      <th>vendors</th>\n",
              "      <th>hour</th>\n",
              "      <th>stadium</th>\n",
              "      <th>death</th>\n",
              "    </tr>\n",
              "  </thead>\n",
              "  <tbody>\n",
              "    <tr>\n",
              "      <th>0</th>\n",
              "      <td>0.0</td>\n",
              "      <td>0.0</td>\n",
              "      <td>0.0</td>\n",
              "      <td>0.0</td>\n",
              "      <td>0.0005</td>\n",
              "      <td>0.0</td>\n",
              "      <td>0.0</td>\n",
              "      <td>0.0</td>\n",
              "      <td>0.0</td>\n",
              "      <td>0.001</td>\n",
              "      <td>...</td>\n",
              "      <td>0.0</td>\n",
              "      <td>0.0</td>\n",
              "      <td>0.008</td>\n",
              "      <td>0.0</td>\n",
              "      <td>0.0</td>\n",
              "      <td>0.0</td>\n",
              "      <td>0.0</td>\n",
              "      <td>0.0</td>\n",
              "      <td>0.0</td>\n",
              "      <td>0.0</td>\n",
              "    </tr>\n",
              "  </tbody>\n",
              "</table>\n",
              "<p>1 rows × 2000 columns</p>\n",
              "</div>\n",
              "      <button class=\"colab-df-convert\" onclick=\"convertToInteractive('df-ed482884-4fd8-4e74-b995-a2a99e6cb855')\"\n",
              "              title=\"Convert this dataframe to an interactive table.\"\n",
              "              style=\"display:none;\">\n",
              "        \n",
              "  <svg xmlns=\"http://www.w3.org/2000/svg\" height=\"24px\"viewBox=\"0 0 24 24\"\n",
              "       width=\"24px\">\n",
              "    <path d=\"M0 0h24v24H0V0z\" fill=\"none\"/>\n",
              "    <path d=\"M18.56 5.44l.94 2.06.94-2.06 2.06-.94-2.06-.94-.94-2.06-.94 2.06-2.06.94zm-11 1L8.5 8.5l.94-2.06 2.06-.94-2.06-.94L8.5 2.5l-.94 2.06-2.06.94zm10 10l.94 2.06.94-2.06 2.06-.94-2.06-.94-.94-2.06-.94 2.06-2.06.94z\"/><path d=\"M17.41 7.96l-1.37-1.37c-.4-.4-.92-.59-1.43-.59-.52 0-1.04.2-1.43.59L10.3 9.45l-7.72 7.72c-.78.78-.78 2.05 0 2.83L4 21.41c.39.39.9.59 1.41.59.51 0 1.02-.2 1.41-.59l7.78-7.78 2.81-2.81c.8-.78.8-2.07 0-2.86zM5.41 20L4 18.59l7.72-7.72 1.47 1.35L5.41 20z\"/>\n",
              "  </svg>\n",
              "      </button>\n",
              "      \n",
              "  <style>\n",
              "    .colab-df-container {\n",
              "      display:flex;\n",
              "      flex-wrap:wrap;\n",
              "      gap: 12px;\n",
              "    }\n",
              "\n",
              "    .colab-df-convert {\n",
              "      background-color: #E8F0FE;\n",
              "      border: none;\n",
              "      border-radius: 50%;\n",
              "      cursor: pointer;\n",
              "      display: none;\n",
              "      fill: #1967D2;\n",
              "      height: 32px;\n",
              "      padding: 0 0 0 0;\n",
              "      width: 32px;\n",
              "    }\n",
              "\n",
              "    .colab-df-convert:hover {\n",
              "      background-color: #E2EBFA;\n",
              "      box-shadow: 0px 1px 2px rgba(60, 64, 67, 0.3), 0px 1px 3px 1px rgba(60, 64, 67, 0.15);\n",
              "      fill: #174EA6;\n",
              "    }\n",
              "\n",
              "    [theme=dark] .colab-df-convert {\n",
              "      background-color: #3B4455;\n",
              "      fill: #D2E3FC;\n",
              "    }\n",
              "\n",
              "    [theme=dark] .colab-df-convert:hover {\n",
              "      background-color: #434B5C;\n",
              "      box-shadow: 0px 1px 3px 1px rgba(0, 0, 0, 0.15);\n",
              "      filter: drop-shadow(0px 1px 2px rgba(0, 0, 0, 0.3));\n",
              "      fill: #FFFFFF;\n",
              "    }\n",
              "  </style>\n",
              "\n",
              "      <script>\n",
              "        const buttonEl =\n",
              "          document.querySelector('#df-ed482884-4fd8-4e74-b995-a2a99e6cb855 button.colab-df-convert');\n",
              "        buttonEl.style.display =\n",
              "          google.colab.kernel.accessAllowed ? 'block' : 'none';\n",
              "\n",
              "        async function convertToInteractive(key) {\n",
              "          const element = document.querySelector('#df-ed482884-4fd8-4e74-b995-a2a99e6cb855');\n",
              "          const dataTable =\n",
              "            await google.colab.kernel.invokeFunction('convertToInteractive',\n",
              "                                                     [key], {});\n",
              "          if (!dataTable) return;\n",
              "\n",
              "          const docLinkHtml = 'Like what you see? Visit the ' +\n",
              "            '<a target=\"_blank\" href=https://colab.research.google.com/notebooks/data_table.ipynb>data table notebook</a>'\n",
              "            + ' to learn more about interactive tables.';\n",
              "          element.innerHTML = '';\n",
              "          dataTable['output_type'] = 'display_data';\n",
              "          await google.colab.output.renderOutput(dataTable, element);\n",
              "          const docLink = document.createElement('div');\n",
              "          docLink.innerHTML = docLinkHtml;\n",
              "          element.appendChild(docLink);\n",
              "        }\n",
              "      </script>\n",
              "    </div>\n",
              "  </div>\n",
              "  "
            ]
          },
          "metadata": {},
          "execution_count": 61
        }
      ]
    },
    {
      "cell_type": "code",
      "source": [
        "term_doc_matrix.head()"
      ],
      "metadata": {
        "colab": {
          "base_uri": "https://localhost:8080/",
          "height": 236
        },
        "id": "kC92X8cJlHGQ",
        "outputId": "8f7badbf-68ba-405e-8465-7fd764bd9136"
      },
      "execution_count": null,
      "outputs": [
        {
          "output_type": "execute_result",
          "data": {
            "text/plain": [
              "            -  The  US  said  new  A  year  first  company  two  ...  century  \\\n",
              "116024.tsv  1    0   0     0    0  0     0      0        0    0  ...        0   \n",
              "116028.tsv  2    1   0     0    0  0     0      0        0    0  ...        0   \n",
              "116031.tsv  2    0   0     0    0  0     0      0        0    0  ...        0   \n",
              "116032.tsv  1    0   1     0    0  0     0      0        0    0  ...        0   \n",
              "116033.tsv  0    0   0     0    0  0     0      0        0    0  ...        0   \n",
              "\n",
              "            traffic  W  seeded  semi  rain  vendors  hour  stadium  death  \n",
              "116024.tsv        0  0       0     0     0        0     0        0      0  \n",
              "116028.tsv        0  0       0     0     0        0     1        0      0  \n",
              "116031.tsv        0  0       0     0     0        0     0        0      0  \n",
              "116032.tsv        0  0       0     0     0        0     0        0      0  \n",
              "116033.tsv        0  0       0     0     0        0     0        0      0  \n",
              "\n",
              "[5 rows x 2000 columns]"
            ],
            "text/html": [
              "\n",
              "  <div id=\"df-4efa639e-e3bf-4e21-b485-ba3c6f954f6f\">\n",
              "    <div class=\"colab-df-container\">\n",
              "      <div>\n",
              "<style scoped>\n",
              "    .dataframe tbody tr th:only-of-type {\n",
              "        vertical-align: middle;\n",
              "    }\n",
              "\n",
              "    .dataframe tbody tr th {\n",
              "        vertical-align: top;\n",
              "    }\n",
              "\n",
              "    .dataframe thead th {\n",
              "        text-align: right;\n",
              "    }\n",
              "</style>\n",
              "<table border=\"1\" class=\"dataframe\">\n",
              "  <thead>\n",
              "    <tr style=\"text-align: right;\">\n",
              "      <th></th>\n",
              "      <th>-</th>\n",
              "      <th>The</th>\n",
              "      <th>US</th>\n",
              "      <th>said</th>\n",
              "      <th>new</th>\n",
              "      <th>A</th>\n",
              "      <th>year</th>\n",
              "      <th>first</th>\n",
              "      <th>company</th>\n",
              "      <th>two</th>\n",
              "      <th>...</th>\n",
              "      <th>century</th>\n",
              "      <th>traffic</th>\n",
              "      <th>W</th>\n",
              "      <th>seeded</th>\n",
              "      <th>semi</th>\n",
              "      <th>rain</th>\n",
              "      <th>vendors</th>\n",
              "      <th>hour</th>\n",
              "      <th>stadium</th>\n",
              "      <th>death</th>\n",
              "    </tr>\n",
              "  </thead>\n",
              "  <tbody>\n",
              "    <tr>\n",
              "      <th>116024.tsv</th>\n",
              "      <td>1</td>\n",
              "      <td>0</td>\n",
              "      <td>0</td>\n",
              "      <td>0</td>\n",
              "      <td>0</td>\n",
              "      <td>0</td>\n",
              "      <td>0</td>\n",
              "      <td>0</td>\n",
              "      <td>0</td>\n",
              "      <td>0</td>\n",
              "      <td>...</td>\n",
              "      <td>0</td>\n",
              "      <td>0</td>\n",
              "      <td>0</td>\n",
              "      <td>0</td>\n",
              "      <td>0</td>\n",
              "      <td>0</td>\n",
              "      <td>0</td>\n",
              "      <td>0</td>\n",
              "      <td>0</td>\n",
              "      <td>0</td>\n",
              "    </tr>\n",
              "    <tr>\n",
              "      <th>116028.tsv</th>\n",
              "      <td>2</td>\n",
              "      <td>1</td>\n",
              "      <td>0</td>\n",
              "      <td>0</td>\n",
              "      <td>0</td>\n",
              "      <td>0</td>\n",
              "      <td>0</td>\n",
              "      <td>0</td>\n",
              "      <td>0</td>\n",
              "      <td>0</td>\n",
              "      <td>...</td>\n",
              "      <td>0</td>\n",
              "      <td>0</td>\n",
              "      <td>0</td>\n",
              "      <td>0</td>\n",
              "      <td>0</td>\n",
              "      <td>0</td>\n",
              "      <td>0</td>\n",
              "      <td>1</td>\n",
              "      <td>0</td>\n",
              "      <td>0</td>\n",
              "    </tr>\n",
              "    <tr>\n",
              "      <th>116031.tsv</th>\n",
              "      <td>2</td>\n",
              "      <td>0</td>\n",
              "      <td>0</td>\n",
              "      <td>0</td>\n",
              "      <td>0</td>\n",
              "      <td>0</td>\n",
              "      <td>0</td>\n",
              "      <td>0</td>\n",
              "      <td>0</td>\n",
              "      <td>0</td>\n",
              "      <td>...</td>\n",
              "      <td>0</td>\n",
              "      <td>0</td>\n",
              "      <td>0</td>\n",
              "      <td>0</td>\n",
              "      <td>0</td>\n",
              "      <td>0</td>\n",
              "      <td>0</td>\n",
              "      <td>0</td>\n",
              "      <td>0</td>\n",
              "      <td>0</td>\n",
              "    </tr>\n",
              "    <tr>\n",
              "      <th>116032.tsv</th>\n",
              "      <td>1</td>\n",
              "      <td>0</td>\n",
              "      <td>1</td>\n",
              "      <td>0</td>\n",
              "      <td>0</td>\n",
              "      <td>0</td>\n",
              "      <td>0</td>\n",
              "      <td>0</td>\n",
              "      <td>0</td>\n",
              "      <td>0</td>\n",
              "      <td>...</td>\n",
              "      <td>0</td>\n",
              "      <td>0</td>\n",
              "      <td>0</td>\n",
              "      <td>0</td>\n",
              "      <td>0</td>\n",
              "      <td>0</td>\n",
              "      <td>0</td>\n",
              "      <td>0</td>\n",
              "      <td>0</td>\n",
              "      <td>0</td>\n",
              "    </tr>\n",
              "    <tr>\n",
              "      <th>116033.tsv</th>\n",
              "      <td>0</td>\n",
              "      <td>0</td>\n",
              "      <td>0</td>\n",
              "      <td>0</td>\n",
              "      <td>0</td>\n",
              "      <td>0</td>\n",
              "      <td>0</td>\n",
              "      <td>0</td>\n",
              "      <td>0</td>\n",
              "      <td>0</td>\n",
              "      <td>...</td>\n",
              "      <td>0</td>\n",
              "      <td>0</td>\n",
              "      <td>0</td>\n",
              "      <td>0</td>\n",
              "      <td>0</td>\n",
              "      <td>0</td>\n",
              "      <td>0</td>\n",
              "      <td>0</td>\n",
              "      <td>0</td>\n",
              "      <td>0</td>\n",
              "    </tr>\n",
              "  </tbody>\n",
              "</table>\n",
              "<p>5 rows × 2000 columns</p>\n",
              "</div>\n",
              "      <button class=\"colab-df-convert\" onclick=\"convertToInteractive('df-4efa639e-e3bf-4e21-b485-ba3c6f954f6f')\"\n",
              "              title=\"Convert this dataframe to an interactive table.\"\n",
              "              style=\"display:none;\">\n",
              "        \n",
              "  <svg xmlns=\"http://www.w3.org/2000/svg\" height=\"24px\"viewBox=\"0 0 24 24\"\n",
              "       width=\"24px\">\n",
              "    <path d=\"M0 0h24v24H0V0z\" fill=\"none\"/>\n",
              "    <path d=\"M18.56 5.44l.94 2.06.94-2.06 2.06-.94-2.06-.94-.94-2.06-.94 2.06-2.06.94zm-11 1L8.5 8.5l.94-2.06 2.06-.94-2.06-.94L8.5 2.5l-.94 2.06-2.06.94zm10 10l.94 2.06.94-2.06 2.06-.94-2.06-.94-.94-2.06-.94 2.06-2.06.94z\"/><path d=\"M17.41 7.96l-1.37-1.37c-.4-.4-.92-.59-1.43-.59-.52 0-1.04.2-1.43.59L10.3 9.45l-7.72 7.72c-.78.78-.78 2.05 0 2.83L4 21.41c.39.39.9.59 1.41.59.51 0 1.02-.2 1.41-.59l7.78-7.78 2.81-2.81c.8-.78.8-2.07 0-2.86zM5.41 20L4 18.59l7.72-7.72 1.47 1.35L5.41 20z\"/>\n",
              "  </svg>\n",
              "      </button>\n",
              "      \n",
              "  <style>\n",
              "    .colab-df-container {\n",
              "      display:flex;\n",
              "      flex-wrap:wrap;\n",
              "      gap: 12px;\n",
              "    }\n",
              "\n",
              "    .colab-df-convert {\n",
              "      background-color: #E8F0FE;\n",
              "      border: none;\n",
              "      border-radius: 50%;\n",
              "      cursor: pointer;\n",
              "      display: none;\n",
              "      fill: #1967D2;\n",
              "      height: 32px;\n",
              "      padding: 0 0 0 0;\n",
              "      width: 32px;\n",
              "    }\n",
              "\n",
              "    .colab-df-convert:hover {\n",
              "      background-color: #E2EBFA;\n",
              "      box-shadow: 0px 1px 2px rgba(60, 64, 67, 0.3), 0px 1px 3px 1px rgba(60, 64, 67, 0.15);\n",
              "      fill: #174EA6;\n",
              "    }\n",
              "\n",
              "    [theme=dark] .colab-df-convert {\n",
              "      background-color: #3B4455;\n",
              "      fill: #D2E3FC;\n",
              "    }\n",
              "\n",
              "    [theme=dark] .colab-df-convert:hover {\n",
              "      background-color: #434B5C;\n",
              "      box-shadow: 0px 1px 3px 1px rgba(0, 0, 0, 0.15);\n",
              "      filter: drop-shadow(0px 1px 2px rgba(0, 0, 0, 0.3));\n",
              "      fill: #FFFFFF;\n",
              "    }\n",
              "  </style>\n",
              "\n",
              "      <script>\n",
              "        const buttonEl =\n",
              "          document.querySelector('#df-4efa639e-e3bf-4e21-b485-ba3c6f954f6f button.colab-df-convert');\n",
              "        buttonEl.style.display =\n",
              "          google.colab.kernel.accessAllowed ? 'block' : 'none';\n",
              "\n",
              "        async function convertToInteractive(key) {\n",
              "          const element = document.querySelector('#df-4efa639e-e3bf-4e21-b485-ba3c6f954f6f');\n",
              "          const dataTable =\n",
              "            await google.colab.kernel.invokeFunction('convertToInteractive',\n",
              "                                                     [key], {});\n",
              "          if (!dataTable) return;\n",
              "\n",
              "          const docLinkHtml = 'Like what you see? Visit the ' +\n",
              "            '<a target=\"_blank\" href=https://colab.research.google.com/notebooks/data_table.ipynb>data table notebook</a>'\n",
              "            + ' to learn more about interactive tables.';\n",
              "          element.innerHTML = '';\n",
              "          dataTable['output_type'] = 'display_data';\n",
              "          await google.colab.output.renderOutput(dataTable, element);\n",
              "          const docLink = document.createElement('div');\n",
              "          docLink.innerHTML = docLinkHtml;\n",
              "          element.appendChild(docLink);\n",
              "        }\n",
              "      </script>\n",
              "    </div>\n",
              "  </div>\n",
              "  "
            ]
          },
          "metadata": {},
          "execution_count": 63
        }
      ]
    },
    {
      "cell_type": "code",
      "source": [
        "idf_dataframe = getIDF_vec(term_doc_matrix.head(2000), top_2k_tokens_by_freq)"
      ],
      "metadata": {
        "id": "UB9dqSlg-yyE"
      },
      "execution_count": 145,
      "outputs": []
    },
    {
      "cell_type": "code",
      "source": [
        "idf_dataframe"
      ],
      "metadata": {
        "colab": {
          "base_uri": "https://localhost:8080/",
          "height": 174
        },
        "id": "hEiA7k-VZwYI",
        "outputId": "cf4d03fd-a3f3-4d93-f9d1-7454db368b66"
      },
      "execution_count": 146,
      "outputs": [
        {
          "output_type": "execute_result",
          "data": {
            "text/plain": [
              "          -       The        US      said       new         A      year  \\\n",
              "0  0.425413  1.471852  4.342806  3.079114  2.956512  3.047026  2.322788   \n",
              "\n",
              "      first   company       two  ...   century   traffic         W    seeded  \\\n",
              "0  2.419119  6.214608  2.453408  ...  4.892852  7.600902  7.600902  7.600902   \n",
              "\n",
              "       semi  rain  vendors      hour   stadium    death  \n",
              "0  7.600902     0        0  5.991465  4.074542  6.50229  \n",
              "\n",
              "[1 rows x 2000 columns]"
            ],
            "text/html": [
              "\n",
              "  <div id=\"df-82bf5d36-0c8d-4ab0-8c06-278b55349cf1\">\n",
              "    <div class=\"colab-df-container\">\n",
              "      <div>\n",
              "<style scoped>\n",
              "    .dataframe tbody tr th:only-of-type {\n",
              "        vertical-align: middle;\n",
              "    }\n",
              "\n",
              "    .dataframe tbody tr th {\n",
              "        vertical-align: top;\n",
              "    }\n",
              "\n",
              "    .dataframe thead th {\n",
              "        text-align: right;\n",
              "    }\n",
              "</style>\n",
              "<table border=\"1\" class=\"dataframe\">\n",
              "  <thead>\n",
              "    <tr style=\"text-align: right;\">\n",
              "      <th></th>\n",
              "      <th>-</th>\n",
              "      <th>The</th>\n",
              "      <th>US</th>\n",
              "      <th>said</th>\n",
              "      <th>new</th>\n",
              "      <th>A</th>\n",
              "      <th>year</th>\n",
              "      <th>first</th>\n",
              "      <th>company</th>\n",
              "      <th>two</th>\n",
              "      <th>...</th>\n",
              "      <th>century</th>\n",
              "      <th>traffic</th>\n",
              "      <th>W</th>\n",
              "      <th>seeded</th>\n",
              "      <th>semi</th>\n",
              "      <th>rain</th>\n",
              "      <th>vendors</th>\n",
              "      <th>hour</th>\n",
              "      <th>stadium</th>\n",
              "      <th>death</th>\n",
              "    </tr>\n",
              "  </thead>\n",
              "  <tbody>\n",
              "    <tr>\n",
              "      <th>0</th>\n",
              "      <td>0.425413</td>\n",
              "      <td>1.471852</td>\n",
              "      <td>4.342806</td>\n",
              "      <td>3.079114</td>\n",
              "      <td>2.956512</td>\n",
              "      <td>3.047026</td>\n",
              "      <td>2.322788</td>\n",
              "      <td>2.419119</td>\n",
              "      <td>6.214608</td>\n",
              "      <td>2.453408</td>\n",
              "      <td>...</td>\n",
              "      <td>4.892852</td>\n",
              "      <td>7.600902</td>\n",
              "      <td>7.600902</td>\n",
              "      <td>7.600902</td>\n",
              "      <td>7.600902</td>\n",
              "      <td>0</td>\n",
              "      <td>0</td>\n",
              "      <td>5.991465</td>\n",
              "      <td>4.074542</td>\n",
              "      <td>6.50229</td>\n",
              "    </tr>\n",
              "  </tbody>\n",
              "</table>\n",
              "<p>1 rows × 2000 columns</p>\n",
              "</div>\n",
              "      <button class=\"colab-df-convert\" onclick=\"convertToInteractive('df-82bf5d36-0c8d-4ab0-8c06-278b55349cf1')\"\n",
              "              title=\"Convert this dataframe to an interactive table.\"\n",
              "              style=\"display:none;\">\n",
              "        \n",
              "  <svg xmlns=\"http://www.w3.org/2000/svg\" height=\"24px\"viewBox=\"0 0 24 24\"\n",
              "       width=\"24px\">\n",
              "    <path d=\"M0 0h24v24H0V0z\" fill=\"none\"/>\n",
              "    <path d=\"M18.56 5.44l.94 2.06.94-2.06 2.06-.94-2.06-.94-.94-2.06-.94 2.06-2.06.94zm-11 1L8.5 8.5l.94-2.06 2.06-.94-2.06-.94L8.5 2.5l-.94 2.06-2.06.94zm10 10l.94 2.06.94-2.06 2.06-.94-2.06-.94-.94-2.06-.94 2.06-2.06.94z\"/><path d=\"M17.41 7.96l-1.37-1.37c-.4-.4-.92-.59-1.43-.59-.52 0-1.04.2-1.43.59L10.3 9.45l-7.72 7.72c-.78.78-.78 2.05 0 2.83L4 21.41c.39.39.9.59 1.41.59.51 0 1.02-.2 1.41-.59l7.78-7.78 2.81-2.81c.8-.78.8-2.07 0-2.86zM5.41 20L4 18.59l7.72-7.72 1.47 1.35L5.41 20z\"/>\n",
              "  </svg>\n",
              "      </button>\n",
              "      \n",
              "  <style>\n",
              "    .colab-df-container {\n",
              "      display:flex;\n",
              "      flex-wrap:wrap;\n",
              "      gap: 12px;\n",
              "    }\n",
              "\n",
              "    .colab-df-convert {\n",
              "      background-color: #E8F0FE;\n",
              "      border: none;\n",
              "      border-radius: 50%;\n",
              "      cursor: pointer;\n",
              "      display: none;\n",
              "      fill: #1967D2;\n",
              "      height: 32px;\n",
              "      padding: 0 0 0 0;\n",
              "      width: 32px;\n",
              "    }\n",
              "\n",
              "    .colab-df-convert:hover {\n",
              "      background-color: #E2EBFA;\n",
              "      box-shadow: 0px 1px 2px rgba(60, 64, 67, 0.3), 0px 1px 3px 1px rgba(60, 64, 67, 0.15);\n",
              "      fill: #174EA6;\n",
              "    }\n",
              "\n",
              "    [theme=dark] .colab-df-convert {\n",
              "      background-color: #3B4455;\n",
              "      fill: #D2E3FC;\n",
              "    }\n",
              "\n",
              "    [theme=dark] .colab-df-convert:hover {\n",
              "      background-color: #434B5C;\n",
              "      box-shadow: 0px 1px 3px 1px rgba(0, 0, 0, 0.15);\n",
              "      filter: drop-shadow(0px 1px 2px rgba(0, 0, 0, 0.3));\n",
              "      fill: #FFFFFF;\n",
              "    }\n",
              "  </style>\n",
              "\n",
              "      <script>\n",
              "        const buttonEl =\n",
              "          document.querySelector('#df-82bf5d36-0c8d-4ab0-8c06-278b55349cf1 button.colab-df-convert');\n",
              "        buttonEl.style.display =\n",
              "          google.colab.kernel.accessAllowed ? 'block' : 'none';\n",
              "\n",
              "        async function convertToInteractive(key) {\n",
              "          const element = document.querySelector('#df-82bf5d36-0c8d-4ab0-8c06-278b55349cf1');\n",
              "          const dataTable =\n",
              "            await google.colab.kernel.invokeFunction('convertToInteractive',\n",
              "                                                     [key], {});\n",
              "          if (!dataTable) return;\n",
              "\n",
              "          const docLinkHtml = 'Like what you see? Visit the ' +\n",
              "            '<a target=\"_blank\" href=https://colab.research.google.com/notebooks/data_table.ipynb>data table notebook</a>'\n",
              "            + ' to learn more about interactive tables.';\n",
              "          element.innerHTML = '';\n",
              "          dataTable['output_type'] = 'display_data';\n",
              "          await google.colab.output.renderOutput(dataTable, element);\n",
              "          const docLink = document.createElement('div');\n",
              "          docLink.innerHTML = docLinkHtml;\n",
              "          element.appendChild(docLink);\n",
              "        }\n",
              "      </script>\n",
              "    </div>\n",
              "  </div>\n",
              "  "
            ]
          },
          "metadata": {},
          "execution_count": 146
        }
      ]
    },
    {
      "cell_type": "code",
      "execution_count": null,
      "metadata": {
        "id": "ShrCKy67vEpq"
      },
      "outputs": [],
      "source": [
        "# 3. Реализовать метод, позволяющий векторизовать произвольный текст с использованием нейронных сетей (предлагается использовать стандартную реализацию модели w2v или glove). \n",
        "# Выбранную модель необходимо обучить на обучающей выборке.\n",
        "from gensim.models import Word2Vec\n",
        "from gensim.test.utils import common_texts"
      ]
    },
    {
      "cell_type": "code",
      "source": [
        "list_of_lists_in_string_representation = list(first_50k_docs_with_content.values())"
      ],
      "metadata": {
        "id": "VpgLtyJnuctK"
      },
      "execution_count": null,
      "outputs": []
    },
    {
      "cell_type": "code",
      "source": [
        "data = []\n",
        "for list_in_string_representation in list_of_lists_in_string_representation:\n",
        "  list_in_normal_form = list_in_string_representation.strip('][').split(', ')\n",
        "  clear_list = []\n",
        "  for word in list_in_normal_form:\n",
        "    word_clear = word[1:]\n",
        "    word_clear = word_clear[:-1]\n",
        "    clear_list.append(word_clear)\n",
        "  data.append(clear_list)"
      ],
      "metadata": {
        "id": "IOG4HNcxGBOe"
      },
      "execution_count": null,
      "outputs": []
    },
    {
      "cell_type": "code",
      "source": [
        "data"
      ],
      "metadata": {
        "id": "0_92-eY0GeEc"
      },
      "execution_count": null,
      "outputs": []
    },
    {
      "cell_type": "code",
      "source": [
        "w2v_model = Word2Vec(\n",
        "    min_count=10,\n",
        "    window=2,\n",
        "    vector_size=300,\n",
        "    negative=10,\n",
        "    alpha=0.03,\n",
        "    min_alpha=0.0007,\n",
        "    sample=6e-5,\n",
        "    sg=1)"
      ],
      "metadata": {
        "id": "1XworGTMmUYy"
      },
      "execution_count": null,
      "outputs": []
    },
    {
      "cell_type": "code",
      "source": [
        "w2v_model.build_vocab(data)"
      ],
      "metadata": {
        "id": "ihSvwU_MmvGs"
      },
      "execution_count": null,
      "outputs": []
    },
    {
      "cell_type": "code",
      "source": [
        "w2v_model.train(data, total_examples=w2v_model.corpus_count, epochs=5, report_delay=1)"
      ],
      "metadata": {
        "colab": {
          "base_uri": "https://localhost:8080/"
        },
        "id": "yCIvBBx4mwmE",
        "outputId": "d99df5bb-177c-4821-db35-2c832586028f"
      },
      "execution_count": null,
      "outputs": [
        {
          "output_type": "execute_result",
          "data": {
            "text/plain": [
              "(4181736, 6883220)"
            ]
          },
          "metadata": {},
          "execution_count": 85
        }
      ]
    },
    {
      "cell_type": "code",
      "source": [
        "w2v_model.save(assets_generated_url + 'word2vec.model')"
      ],
      "metadata": {
        "id": "91zdUrLDz17a"
      },
      "execution_count": null,
      "outputs": []
    },
    {
      "cell_type": "code",
      "source": [
        "w2v_model = Word2Vec.load(assets_generated_url + 'word2vec.model')"
      ],
      "metadata": {
        "id": "B5CBDV5l0DDp"
      },
      "execution_count": null,
      "outputs": []
    },
    {
      "cell_type": "code",
      "source": [
        "w2v_model.wv.get_vector('walk')"
      ],
      "metadata": {
        "id": "EyhwdeMYLzsN"
      },
      "execution_count": null,
      "outputs": []
    },
    {
      "cell_type": "code",
      "execution_count": 181,
      "metadata": {
        "id": "X1u2NO6xvNwR"
      },
      "outputs": [],
      "source": [
        "# 4. С использованием библиотечной реализации метода подсчета косинусного расстояния между векторными представлениями текста, \n",
        "# продемонстрировать на примерах, что для семантически близких слов модель генерирует вектора, для которых косинусное расстояние меньше, чем для семантически далеких токенов\n",
        "\n",
        "# изменяется от 0 до 1 и чем больше - тем лсова более похожи\n",
        "from scipy import spatial\n",
        "def cosine_lib(a, b):\n",
        "    return 1 - spatial.distance.cosine(a, b)\n",
        "\n",
        "def cosine_similarity_of_vectors(vec_1, vec_2):\n",
        "  min_vec_size = len(vec_1)\n",
        "  if min_vec_size > len(vec_2):\n",
        "    min_vec_size = len(vec_2)\n",
        "  dot_product_of_vectors = 0\n",
        "  vec_1_magnitude = 0\n",
        "  vec_2_magnitude = 0\n",
        "  for vec_param_index in range(0,min_vec_size):\n",
        "    dot_product_of_vectors += vec_1[vec_param_index] * vec_2[vec_param_index]\n",
        "    vec_1_magnitude += vec_1[vec_param_index] * vec_1[vec_param_index]\n",
        "    vec_2_magnitude += vec_2[vec_param_index] * vec_2[vec_param_index]\n",
        "  vec_1_magnitude = math.sqrt(vec_1_magnitude)\n",
        "  vec_2_magnitude = math.sqrt(vec_2_magnitude)\n",
        "\n",
        "  return dot_product_of_vectors / (vec_1_magnitude * vec_2_magnitude)"
      ]
    },
    {
      "cell_type": "code",
      "source": [
        "set_of_examples = {\n",
        "\t'step': [['trip', 'walk'], ['count', 'destination'], ['injured', 'center']],\n",
        "\t'coach': [['father', 'player'], ['hattrick', 'postgame', 'scoreboard'], ['engagement', 'refund']],\n",
        "\t'photo': [['picture', 'image', 'painting'], ['file', 'art'], ['postgame', 'wet']],\n",
        "\t'ocean': [['lake', 'water', 'river'], ['fish', 'boat'], ['snap', 'Design']]\n",
        "}\n",
        "\n",
        "for example_word, tests in set_of_examples.items():\n",
        "  print(f\"analyzing word - {example_word}\")\n",
        "  exmaple_word_vec = w2v_model.wv.get_vector(example_word)\n",
        "  print(\"\\tsame meaning words scores:\")\n",
        "  for same_meaning_word in tests[0]:\n",
        "    same_meaning_word_vec = w2v_model.wv.get_vector(same_meaning_word)\n",
        "    my_cos_dist = cosine_similarity_of_vectors(exmaple_word_vec, same_meaning_word_vec)\n",
        "    lib_cos_dist = cosine_lib(exmaple_word_vec, same_meaning_word_vec)\n",
        "    print(f\"\\t\\tdistance for {same_meaning_word}\")\n",
        "    print(f\"\\t\\t\\t\\tmy  = {my_cos_dist}\")\n",
        "    print(f\"\\t\\t\\t\\tlib = {lib_cos_dist}\")\n",
        "  print(\"\\tsame scope words scores:\")\n",
        "  for same_scope_word in tests[1]:\n",
        "    same_scope_word_vec = w2v_model.wv.get_vector(same_meaning_word)\n",
        "    my_cos_dist = cosine_similarity_of_vectors(exmaple_word_vec, same_scope_word_vec)\n",
        "    lib_cos_dist = cosine_lib(exmaple_word_vec, same_scope_word_vec)\n",
        "    print(f\"\\t\\tdistance for {same_scope_word}\")\n",
        "    print(f\"\\t\\t\\t\\tmy  = {my_cos_dist}\")\n",
        "    print(f\"\\t\\t\\t\\tlib = {lib_cos_dist}\")\n",
        "  print(\"\\tdifferent scope words scores:\")\n",
        "  for diff_scope_word in tests[2]:\n",
        "    diff_scope_word_vec = w2v_model.wv.get_vector(same_meaning_word)\n",
        "    my_cos_dist = cosine_similarity_of_vectors(exmaple_word_vec, diff_scope_word_vec)\n",
        "    lib_cos_dist = cosine_lib(exmaple_word_vec, diff_scope_word_vec)\n",
        "    print(f\"\\t\\tdistance for {diff_scope_word}\")\n",
        "    print(f\"\\t\\t\\t\\tmy  = {my_cos_dist}\")\n",
        "    print(f\"\\t\\t\\t\\tlib = {lib_cos_dist}\")"
      ],
      "metadata": {
        "id": "-fwTUogNJC-N"
      },
      "execution_count": null,
      "outputs": []
    },
    {
      "cell_type": "code",
      "execution_count": 156,
      "metadata": {
        "id": "aZ5jRwldvq74"
      },
      "outputs": [],
      "source": [
        "# 5. Применить какой-либо метод сокращения размерностей полученных одним из базовых способов векторизации, выбранным ранее (см. пункт 2), векторов\n",
        "from sklearn.decomposition import PCA\n",
        "\n",
        "vectors = []\n",
        "df_train = pd.read_csv('gdrive/My Drive/Colab Notebooks/nlp-2023/train.csv')\n",
        "\n",
        "for index, row in df_train.head(350).iterrows():\n",
        "  text = row['title'] + '. ' + row['text']\n",
        "  df_vector = get_TF_vec_of_doc(text, top_2k_tokens_by_freq.keys())\n",
        "  vector_as_list = df_vector.loc[0, :].values.flatten().tolist()\n",
        "  vectors.append(vector_as_list)"
      ]
    },
    {
      "cell_type": "code",
      "source": [
        "pca = PCA(n_components=300)\n",
        "pca_model = pca.fit(vectors)"
      ],
      "metadata": {
        "id": "ilAZaPbCa3ld"
      },
      "execution_count": 157,
      "outputs": []
    },
    {
      "cell_type": "code",
      "source": [
        "# 6. С использованием разработанного метода подсчета косинусного расстояния сравнить эффективность метода векторизации с использованием \n",
        "#  нейронных сетей и эффективность базовых методов векторизации с последующим сокращением размерности.\n",
        "# Сформулировать вывод о том, применение какого способа позволяет получить лучшие результаты на выбранном датасете.\n",
        "\n",
        "pca_ini_vector = pca_model.transform(get_TF_vec_of_doc('photo', top_2k_tokens_by_freq.keys()))[0]\n",
        "pca_same_vector = pca_model.transform(get_TF_vec_of_doc('image', top_2k_tokens_by_freq.keys()))[0]\n",
        "pca_diff_vector = pca_model.transform(get_TF_vec_of_doc('water', top_2k_tokens_by_freq.keys()))[0]\n",
        "\n",
        "w2v_ini_vector = w2v_model.wv.get_vector('photo')\n",
        "w2v_same_vector = w2v_model.wv.get_vector('image')\n",
        "w2v_diff_vector = w2v_model.wv.get_vector('water')"
      ],
      "metadata": {
        "id": "Vo8u5CC9j4wZ"
      },
      "execution_count": null,
      "outputs": []
    },
    {
      "cell_type": "code",
      "source": [
        "my_cos_dist_pca_same = cosine_similarity_of_vectors(pca_ini_vector, pca_same_vector)\n",
        "my_cos_dist_pca_diff = cosine_similarity_of_vectors(pca_ini_vector, pca_diff_vector)\n",
        "\n",
        "lib_cos_dist_pca_same = cosine_lib(pca_ini_vector, pca_same_vector)\n",
        "lib_cos_dist_pca_diff = cosine_lib(pca_ini_vector, pca_diff_vector)\n",
        "\n",
        "\n",
        "my_cos_dist_w2v_same = cosine_similarity_of_vectors(w2v_ini_vector, w2v_same_vector)\n",
        "my_cos_dist_w2v_diff = cosine_similarity_of_vectors(w2v_ini_vector, w2v_diff_vector)\n",
        "\n",
        "lib_cos_dist_w2v_same = cosine_lib(w2v_ini_vector, w2v_same_vector)\n",
        "lib_cos_dist_w2v_diff = cosine_lib(w2v_ini_vector, w2v_diff_vector)"
      ],
      "metadata": {
        "id": "HK1XkmHKpGMM"
      },
      "execution_count": 195,
      "outputs": []
    },
    {
      "cell_type": "code",
      "source": [
        "print('PCA')\n",
        "print('\\tMY cosine')\n",
        "print(f\"\\t\\tsame={my_cos_dist_pca_same}\\t\\tdiff={my_cos_dist_pca_diff}\")\n",
        "print('\\tLIB cosine')\n",
        "print(f\"\\t\\tsame={lib_cos_dist_pca_same}\\t\\tdiff={lib_cos_dist_pca_diff}\")\n",
        "\n",
        "print()\n",
        "\n",
        "print('W2V')\n",
        "print('\\tMY cosine')\n",
        "print(f\"\\t\\tsame={my_cos_dist_w2v_same}\\t\\tdiff={my_cos_dist_w2v_diff}\")\n",
        "print('\\tLIB cosine')\n",
        "print(f\"\\t\\tsame={lib_cos_dist_w2v_same}\\t\\tdiff={lib_cos_dist_w2v_diff}\")"
      ],
      "metadata": {
        "colab": {
          "base_uri": "https://localhost:8080/"
        },
        "id": "FBP-tMGDp4e8",
        "outputId": "1d75d36f-509d-4891-8968-0eec010516e8"
      },
      "execution_count": 196,
      "outputs": [
        {
          "output_type": "stream",
          "name": "stdout",
          "text": [
            "PCA\n",
            "\tMY cosine\n",
            "\t\tsame=0.6649569906638725\t\tdiff=0.6634791013259208\n",
            "\tLIB cosine\n",
            "\t\tsame=0.6649569906638728\t\tdiff=0.6634791013259209\n",
            "\n",
            "W2V\n",
            "\tMY cosine\n",
            "\t\tsame=0.7725435033585332\t\tdiff=0.5392240529150775\n",
            "\tLIB cosine\n",
            "\t\tsame=0.7725434899330139\t\tdiff=0.5392240285873413\n"
          ]
        }
      ]
    },
    {
      "cell_type": "code",
      "execution_count": 222,
      "metadata": {
        "id": "evBXDL_XwDLn"
      },
      "outputs": [],
      "source": [
        "# 7. Реализовать метод, осуществляющий векторизацию произвольного текста по следующему алгоритму: https://github.com/Ko4eBHuK/nlp-23-spring/tree/main/tasks/task-03\n",
        "def vectorize_text(text):\n",
        "  text_vector = [0] * 300\n",
        "  total_tokens = 0\n",
        "  sentences = re.split(r'(?<!\\w\\.\\w.)(?<![A-Z][a-z]\\.)(?<=\\.|\\?|!)\\s(?![a-z])', text)\n",
        "  for sentence in sentences:\n",
        "    tokens = re.findall(r'[^\\s.!?\\-;:]+', sentence)\n",
        "    for token in tokens:\n",
        "      if (not token in stops) and (token in w2v_model.wv.key_to_index):\n",
        "        total_tokens += 1\n",
        "        token_vector = w2v_model.wv.get_vector(token)\n",
        "        text_vector = [sum(x) for x in zip(text_vector, token_vector)]\n",
        "  return [x / total_tokens for x in text_vector]"
      ]
    },
    {
      "cell_type": "code",
      "source": [
        "vectorize_text('Michael Phelps won the gold medal Wireless in the 400 individual medley and set a world record in a time of 4 minutes 8.26 seconds.')"
      ],
      "metadata": {
        "id": "LoGlxsnZxj6e"
      },
      "execution_count": null,
      "outputs": []
    },
    {
      "cell_type": "code",
      "execution_count": 224,
      "metadata": {
        "id": "npBN4jT3wV2N"
      },
      "outputs": [],
      "source": [
        "# 8. Выполнить векторизацию тестовой выборки с использованием метода, реализованного на предыдущем шаге.\n",
        "test_url = 'gdrive/My Drive/Colab Notebooks/nlp-2023/test.csv'\n",
        "df_test = pd.read_csv(test_url)\n",
        "\n",
        "with open(f\"gdrive/My Drive/Colab Notebooks/nlp-2023/assets/task-3/test-embeddings.tsv\", 'w') as writefile:\n",
        "  for index, row in df_test.iterrows():\n",
        "    text = row['title'] + '. ' + row['text']\n",
        "    doc_vector = vectorize_text(text)\n",
        "    row_to_write = f\"{index}\"\n",
        "    for embeding_component in doc_vector:\n",
        "      row_to_write += f\"\\t{embeding_component}\"\n",
        "    writefile.write(row_to_write + '\\n')"
      ]
    }
  ],
  "metadata": {
    "colab": {
      "provenance": []
    },
    "gpuClass": "standard",
    "kernelspec": {
      "display_name": "Python 3",
      "name": "python3"
    },
    "language_info": {
      "name": "python"
    }
  },
  "nbformat": 4,
  "nbformat_minor": 0
}