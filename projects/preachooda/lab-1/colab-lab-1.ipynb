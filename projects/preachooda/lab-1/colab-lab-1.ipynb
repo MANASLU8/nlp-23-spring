{
  "nbformat": 4,
  "nbformat_minor": 0,
  "metadata": {
    "colab": {
      "provenance": []
    },
    "kernelspec": {
      "name": "python3",
      "display_name": "Python 3"
    },
    "language_info": {
      "name": "python"
    }
  },
  "cells": [
    {
      "cell_type": "code",
      "execution_count": 1,
      "metadata": {
        "colab": {
          "base_uri": "https://localhost:8080/"
        },
        "id": "Erellnuc4aW7",
        "outputId": "5c79b7f2-3f54-4ea6-bf66-008b03292f07"
      },
      "outputs": [
        {
          "output_type": "stream",
          "name": "stdout",
          "text": [
            "Python 3.9.16\n"
          ]
        }
      ],
      "source": [
        "!python --version"
      ]
    },
    {
      "cell_type": "code",
      "source": [
        "from google.colab import drive\n",
        "\n",
        "drive.mount('/content/gdrive')\n",
        "\n",
        "train_url = 'gdrive/My Drive/Colab Notebooks/nlp-2023/train.csv'\n",
        "test_url = 'gdrive/My Drive/Colab Notebooks/nlp-2023/test.csv'"
      ],
      "metadata": {
        "colab": {
          "base_uri": "https://localhost:8080/"
        },
        "id": "IO2MFOvddjPQ",
        "outputId": "2f3b2fd1-5052-4518-d3ac-c4daa7b30be9"
      },
      "execution_count": 2,
      "outputs": [
        {
          "output_type": "stream",
          "name": "stdout",
          "text": [
            "Mounted at /content/gdrive\n"
          ]
        }
      ]
    },
    {
      "cell_type": "code",
      "source": [
        "from nltk.stem import SnowballStemmer\n",
        "from nltk.stem import WordNetLemmatizer\n",
        "snowball_stemmer_obj = SnowballStemmer(\"english\")\n",
        "lemmatizer = WordNetLemmatizer()"
      ],
      "metadata": {
        "id": "GNMVeDTG5aF9"
      },
      "execution_count": 3,
      "outputs": []
    },
    {
      "cell_type": "code",
      "source": [
        "import pandas as pd\n",
        "df_train = pd.read_csv(train_url)\n",
        "df_test = pd.read_csv(test_url)"
      ],
      "metadata": {
        "id": "M82NzQ54ePiK"
      },
      "execution_count": 4,
      "outputs": []
    },
    {
      "cell_type": "code",
      "source": [
        "df_train"
      ],
      "metadata": {
        "colab": {
          "base_uri": "https://localhost:8080/",
          "height": 498
        },
        "id": "jnrElDr-ebXK",
        "outputId": "d6910c85-19b8-4ce9-f9a9-63ddaf6a8d0b"
      },
      "execution_count": 5,
      "outputs": [
        {
          "output_type": "execute_result",
          "data": {
            "text/plain": [
              "        class                                              title  \\\n",
              "0           3  Wall St. Bears Claw Back Into the Black (Reuters)   \n",
              "1           3  Carlyle Looks Toward Commercial Aerospace (Reu...   \n",
              "2           3    Oil and Economy Cloud Stocks' Outlook (Reuters)   \n",
              "3           3  Iraq Halts Oil Exports from Main Southern Pipe...   \n",
              "4           3  Oil prices soar to all-time record, posing new...   \n",
              "...       ...                                                ...   \n",
              "119995      1  Pakistan's Musharraf Says Won't Quit as Army C...   \n",
              "119996      2                  Renteria signing a top-shelf deal   \n",
              "119997      2                    Saban not going to Dolphins yet   \n",
              "119998      2                                  Today's NFL games   \n",
              "119999      2                       Nets get Carter from Raptors   \n",
              "\n",
              "                                                     text  \n",
              "0       Reuters - Short-sellers, Wall Street's dwindli...  \n",
              "1       Reuters - Private investment firm Carlyle Grou...  \n",
              "2       Reuters - Soaring crude prices plus worries\\ab...  \n",
              "3       Reuters - Authorities have halted oil export\\f...  \n",
              "4       AFP - Tearaway world oil prices, toppling reco...  \n",
              "...                                                   ...  \n",
              "119995   KARACHI (Reuters) - Pakistani President Perve...  \n",
              "119996  Red Sox general manager Theo Epstein acknowled...  \n",
              "119997  The Miami Dolphins will put their courtship of...  \n",
              "119998  PITTSBURGH at NY GIANTS Time: 1:30 p.m. Line: ...  \n",
              "119999  INDIANAPOLIS -- All-Star Vince Carter was trad...  \n",
              "\n",
              "[120000 rows x 3 columns]"
            ],
            "text/html": [
              "\n",
              "  <div id=\"df-b9e866f4-c77b-42f1-bf49-49e9714b5d73\">\n",
              "    <div class=\"colab-df-container\">\n",
              "      <div>\n",
              "<style scoped>\n",
              "    .dataframe tbody tr th:only-of-type {\n",
              "        vertical-align: middle;\n",
              "    }\n",
              "\n",
              "    .dataframe tbody tr th {\n",
              "        vertical-align: top;\n",
              "    }\n",
              "\n",
              "    .dataframe thead th {\n",
              "        text-align: right;\n",
              "    }\n",
              "</style>\n",
              "<table border=\"1\" class=\"dataframe\">\n",
              "  <thead>\n",
              "    <tr style=\"text-align: right;\">\n",
              "      <th></th>\n",
              "      <th>class</th>\n",
              "      <th>title</th>\n",
              "      <th>text</th>\n",
              "    </tr>\n",
              "  </thead>\n",
              "  <tbody>\n",
              "    <tr>\n",
              "      <th>0</th>\n",
              "      <td>3</td>\n",
              "      <td>Wall St. Bears Claw Back Into the Black (Reuters)</td>\n",
              "      <td>Reuters - Short-sellers, Wall Street's dwindli...</td>\n",
              "    </tr>\n",
              "    <tr>\n",
              "      <th>1</th>\n",
              "      <td>3</td>\n",
              "      <td>Carlyle Looks Toward Commercial Aerospace (Reu...</td>\n",
              "      <td>Reuters - Private investment firm Carlyle Grou...</td>\n",
              "    </tr>\n",
              "    <tr>\n",
              "      <th>2</th>\n",
              "      <td>3</td>\n",
              "      <td>Oil and Economy Cloud Stocks' Outlook (Reuters)</td>\n",
              "      <td>Reuters - Soaring crude prices plus worries\\ab...</td>\n",
              "    </tr>\n",
              "    <tr>\n",
              "      <th>3</th>\n",
              "      <td>3</td>\n",
              "      <td>Iraq Halts Oil Exports from Main Southern Pipe...</td>\n",
              "      <td>Reuters - Authorities have halted oil export\\f...</td>\n",
              "    </tr>\n",
              "    <tr>\n",
              "      <th>4</th>\n",
              "      <td>3</td>\n",
              "      <td>Oil prices soar to all-time record, posing new...</td>\n",
              "      <td>AFP - Tearaway world oil prices, toppling reco...</td>\n",
              "    </tr>\n",
              "    <tr>\n",
              "      <th>...</th>\n",
              "      <td>...</td>\n",
              "      <td>...</td>\n",
              "      <td>...</td>\n",
              "    </tr>\n",
              "    <tr>\n",
              "      <th>119995</th>\n",
              "      <td>1</td>\n",
              "      <td>Pakistan's Musharraf Says Won't Quit as Army C...</td>\n",
              "      <td>KARACHI (Reuters) - Pakistani President Perve...</td>\n",
              "    </tr>\n",
              "    <tr>\n",
              "      <th>119996</th>\n",
              "      <td>2</td>\n",
              "      <td>Renteria signing a top-shelf deal</td>\n",
              "      <td>Red Sox general manager Theo Epstein acknowled...</td>\n",
              "    </tr>\n",
              "    <tr>\n",
              "      <th>119997</th>\n",
              "      <td>2</td>\n",
              "      <td>Saban not going to Dolphins yet</td>\n",
              "      <td>The Miami Dolphins will put their courtship of...</td>\n",
              "    </tr>\n",
              "    <tr>\n",
              "      <th>119998</th>\n",
              "      <td>2</td>\n",
              "      <td>Today's NFL games</td>\n",
              "      <td>PITTSBURGH at NY GIANTS Time: 1:30 p.m. Line: ...</td>\n",
              "    </tr>\n",
              "    <tr>\n",
              "      <th>119999</th>\n",
              "      <td>2</td>\n",
              "      <td>Nets get Carter from Raptors</td>\n",
              "      <td>INDIANAPOLIS -- All-Star Vince Carter was trad...</td>\n",
              "    </tr>\n",
              "  </tbody>\n",
              "</table>\n",
              "<p>120000 rows × 3 columns</p>\n",
              "</div>\n",
              "      <button class=\"colab-df-convert\" onclick=\"convertToInteractive('df-b9e866f4-c77b-42f1-bf49-49e9714b5d73')\"\n",
              "              title=\"Convert this dataframe to an interactive table.\"\n",
              "              style=\"display:none;\">\n",
              "        \n",
              "  <svg xmlns=\"http://www.w3.org/2000/svg\" height=\"24px\"viewBox=\"0 0 24 24\"\n",
              "       width=\"24px\">\n",
              "    <path d=\"M0 0h24v24H0V0z\" fill=\"none\"/>\n",
              "    <path d=\"M18.56 5.44l.94 2.06.94-2.06 2.06-.94-2.06-.94-.94-2.06-.94 2.06-2.06.94zm-11 1L8.5 8.5l.94-2.06 2.06-.94-2.06-.94L8.5 2.5l-.94 2.06-2.06.94zm10 10l.94 2.06.94-2.06 2.06-.94-2.06-.94-.94-2.06-.94 2.06-2.06.94z\"/><path d=\"M17.41 7.96l-1.37-1.37c-.4-.4-.92-.59-1.43-.59-.52 0-1.04.2-1.43.59L10.3 9.45l-7.72 7.72c-.78.78-.78 2.05 0 2.83L4 21.41c.39.39.9.59 1.41.59.51 0 1.02-.2 1.41-.59l7.78-7.78 2.81-2.81c.8-.78.8-2.07 0-2.86zM5.41 20L4 18.59l7.72-7.72 1.47 1.35L5.41 20z\"/>\n",
              "  </svg>\n",
              "      </button>\n",
              "      \n",
              "  <style>\n",
              "    .colab-df-container {\n",
              "      display:flex;\n",
              "      flex-wrap:wrap;\n",
              "      gap: 12px;\n",
              "    }\n",
              "\n",
              "    .colab-df-convert {\n",
              "      background-color: #E8F0FE;\n",
              "      border: none;\n",
              "      border-radius: 50%;\n",
              "      cursor: pointer;\n",
              "      display: none;\n",
              "      fill: #1967D2;\n",
              "      height: 32px;\n",
              "      padding: 0 0 0 0;\n",
              "      width: 32px;\n",
              "    }\n",
              "\n",
              "    .colab-df-convert:hover {\n",
              "      background-color: #E2EBFA;\n",
              "      box-shadow: 0px 1px 2px rgba(60, 64, 67, 0.3), 0px 1px 3px 1px rgba(60, 64, 67, 0.15);\n",
              "      fill: #174EA6;\n",
              "    }\n",
              "\n",
              "    [theme=dark] .colab-df-convert {\n",
              "      background-color: #3B4455;\n",
              "      fill: #D2E3FC;\n",
              "    }\n",
              "\n",
              "    [theme=dark] .colab-df-convert:hover {\n",
              "      background-color: #434B5C;\n",
              "      box-shadow: 0px 1px 3px 1px rgba(0, 0, 0, 0.15);\n",
              "      filter: drop-shadow(0px 1px 2px rgba(0, 0, 0, 0.3));\n",
              "      fill: #FFFFFF;\n",
              "    }\n",
              "  </style>\n",
              "\n",
              "      <script>\n",
              "        const buttonEl =\n",
              "          document.querySelector('#df-b9e866f4-c77b-42f1-bf49-49e9714b5d73 button.colab-df-convert');\n",
              "        buttonEl.style.display =\n",
              "          google.colab.kernel.accessAllowed ? 'block' : 'none';\n",
              "\n",
              "        async function convertToInteractive(key) {\n",
              "          const element = document.querySelector('#df-b9e866f4-c77b-42f1-bf49-49e9714b5d73');\n",
              "          const dataTable =\n",
              "            await google.colab.kernel.invokeFunction('convertToInteractive',\n",
              "                                                     [key], {});\n",
              "          if (!dataTable) return;\n",
              "\n",
              "          const docLinkHtml = 'Like what you see? Visit the ' +\n",
              "            '<a target=\"_blank\" href=https://colab.research.google.com/notebooks/data_table.ipynb>data table notebook</a>'\n",
              "            + ' to learn more about interactive tables.';\n",
              "          element.innerHTML = '';\n",
              "          dataTable['output_type'] = 'display_data';\n",
              "          await google.colab.output.renderOutput(dataTable, element);\n",
              "          const docLink = document.createElement('div');\n",
              "          docLink.innerHTML = docLinkHtml;\n",
              "          element.appendChild(docLink);\n",
              "        }\n",
              "      </script>\n",
              "    </div>\n",
              "  </div>\n",
              "  "
            ]
          },
          "metadata": {},
          "execution_count": 5
        },
        {
          "output_type": "stream",
          "name": "stdout",
          "text": [
            "Warning: total number of rows (120000) exceeds max_rows (20000). Limiting to first (20000) rows.\n"
          ]
        }
      ]
    },
    {
      "cell_type": "code",
      "source": [
        "# TODO - make two dimensianal container for tokens [sentence_index, token_index]\n",
        "# TODO - regex"
      ],
      "metadata": {
        "id": "Oxxh2sEvHt_4"
      },
      "execution_count": 6,
      "outputs": []
    },
    {
      "cell_type": "code",
      "source": [
        "import re\n",
        "\n",
        "    # TODO money_in_bucks_regex - apply last examples to it\n",
        "money_in_bucks_regex = r'\\$\\d+(?:\\,\\d{3})?(?:\\.\\d+)?\\s?(?:trillion|billion|million|thousand|trln|bn|mn|th)?' # $15trln ; $15 trln ; $15,000 ; $15 ; $15.2 ; $1.8bn ; $1 mn ; $0.49 ; ?63.5 million dollars? ... ; $1.033 billion\n",
        "metric_weight_regex = r'\\d+(?:kg|mg|g|t)' # 81kg\n",
        "# телефоны - The phone number for the New York sports desk is (212) 621-1630 ; (800-838-4616) ; \n",
        "# дата - Aug. 17 ; Aug 17 ; Sept. 11 ; Jan. 2000 ; стандартные даты\n",
        "# сокращения через точку - M.V.P. ; S.E.C.\n",
        "# время - 1:54.04 ; 1:30 pm ; 9:03\n",
        "# веб-адреса - http://yourap.org/ ; For-Side.com\n",
        "# компании с сокращениями - Google inc. ; General Motors Corp. ; Halliburton Co. ; Louisiana-Pacific Corp.\n",
        "# пунктуация(тоже выносим в токены) - \" - \" __ \": \" __ \"; \" __ \"! \" __ \"? \" __ \". \" __ \", \"\n",
        "# email - bebra-shmebrikovna.reks3-4-4@yarus34.ru\n",
        "not_space_regex = r'[^\\s]+' # any not space symbol sequence\n",
        "\n",
        "          # убрать мусор в виде \\\\ и прочих не несущих смысла знаков\n",
        "\n",
        "# распределить по приоритету, вроде бы та регулярка что первее, матчится в первую очередь\n",
        "regex_to_take_tokens = money_in_bucks_regex + '|' + metric_weight_regex + '|' + not_space_regex"
      ],
      "metadata": {
        "id": "eeeGeDtM5NqW"
      },
      "execution_count": 69,
      "outputs": []
    },
    {
      "cell_type": "markdown",
      "source": [
        "# Проверка регекса баксов"
      ],
      "metadata": {
        "id": "VEs7i72VsXa1"
      }
    },
    {
      "cell_type": "code",
      "source": [
        "test_example_bucks = df_train['title'][1538] + '. ' + df_train['text'][1538]"
      ],
      "metadata": {
        "id": "sTT2xeZvH5Ch"
      },
      "execution_count": 37,
      "outputs": []
    },
    {
      "cell_type": "code",
      "source": [
        "test_example_bucks"
      ],
      "metadata": {
        "colab": {
          "base_uri": "https://localhost:8080/",
          "height": 0
        },
        "id": "-oxJZNT6ICzQ",
        "outputId": "b3cb9f05-522b-42c3-b390-5fd1366d0081"
      },
      "execution_count": 38,
      "outputs": [
        {
          "output_type": "execute_result",
          "data": {
            "text/plain": [
              "'European/US private equity consortium buys Intelsat in deal valued at \\\\$5bn. An unusual alliance of US and European private equity firms has won the auction to buy Bermuda-based satellite business Intelsat. Europeans Apax and Permira and US firms Apollo Management and Madison Dearborn will pay \\\\$3bn for the business and assume \\\\$2bn ...'"
            ],
            "application/vnd.google.colaboratory.intrinsic+json": {
              "type": "string"
            }
          },
          "metadata": {},
          "execution_count": 38
        }
      ]
    },
    {
      "cell_type": "code",
      "source": [
        "test_result_bucks = re.findAll(money_in_bucks_regex, test_example_bucks)"
      ],
      "metadata": {
        "id": "NPqw94s5NWEb"
      },
      "execution_count": 44,
      "outputs": []
    },
    {
      "cell_type": "code",
      "source": [
        "test_result_bucks"
      ],
      "metadata": {
        "colab": {
          "base_uri": "https://localhost:8080/"
        },
        "id": "Pcna66pSNn4k",
        "outputId": "6c86f8aa-7c05-49d4-fbb8-0b34b76420c7"
      },
      "execution_count": 45,
      "outputs": [
        {
          "output_type": "execute_result",
          "data": {
            "text/plain": [
              "['European/US private equity consortium buys Intelsat in deal valued at \\\\',\n",
              " '. An unusual alliance of US and European private equity firms has won the auction to buy Bermuda-based satellite business Intelsat. Europeans Apax and Permira and US firms Apollo Management and Madison Dearborn will pay \\\\',\n",
              " ' for the business and assume \\\\',\n",
              " ' ...']"
            ]
          },
          "metadata": {},
          "execution_count": 45
        }
      ]
    },
    {
      "cell_type": "markdown",
      "source": [
        "# Проверка регекса веса"
      ],
      "metadata": {
        "id": "qhOlNFcAsRaN"
      }
    },
    {
      "cell_type": "code",
      "source": [
        "test_example_weight = df_train['title'][1599] + '. ' + df_train['text'][1599]"
      ],
      "metadata": {
        "id": "L7iR23QssQlm"
      },
      "execution_count": null,
      "outputs": []
    },
    {
      "cell_type": "code",
      "source": [
        "test_example_weight"
      ],
      "metadata": {
        "colab": {
          "base_uri": "https://localhost:8080/",
          "height": 0
        },
        "id": "N9tFEu9_qLbi",
        "outputId": "bf27fd89-9622-4378-f65b-e36e236c0f4b"
      },
      "execution_count": 48,
      "outputs": [
        {
          "output_type": "execute_result",
          "data": {
            "text/plain": [
              "'Iliadis Takes Greece #39;s Second Gold with Judo Win. ATHENS (Reuters) - Greek teenager Ilias Iliadis swept up the Olympic host country #39;s second gold medal on Tuesday, winning the men #39;s judo under 81kg category. '"
            ],
            "application/vnd.google.colaboratory.intrinsic+json": {
              "type": "string"
            }
          },
          "metadata": {},
          "execution_count": 48
        }
      ]
    },
    {
      "cell_type": "code",
      "source": [
        "test_result_weight = re.findAll(metric_weight_regex, test_example_weight)"
      ],
      "metadata": {
        "id": "tzVTaOZcpdqy"
      },
      "execution_count": 46,
      "outputs": []
    },
    {
      "cell_type": "code",
      "source": [
        "test_result_weight"
      ],
      "metadata": {
        "colab": {
          "base_uri": "https://localhost:8080/"
        },
        "id": "DSxfsYVTp1Tx",
        "outputId": "f6bb4460-ba9f-4cb1-f4b3-7b6ded819e8b"
      },
      "execution_count": 47,
      "outputs": [
        {
          "output_type": "execute_result",
          "data": {
            "text/plain": [
              "['Iliadis Takes Greece #39;s Second Gold with Judo Win. ATHENS (Reuters) - Greek teenager Ilias Iliadis swept up the Olympic host country #39;s second gold medal on Tuesday, winning the men #39;s judo under ',\n",
              " ' category. ']"
            ]
          },
          "metadata": {},
          "execution_count": 47
        }
      ]
    },
    {
      "cell_type": "code",
      "source": [],
      "metadata": {
        "id": "UjYsYA7DtywH"
      },
      "execution_count": null,
      "outputs": []
    },
    {
      "cell_type": "markdown",
      "source": [
        "# Проверка итогового регекса"
      ],
      "metadata": {
        "id": "XRG93rKntz8-"
      }
    },
    {
      "cell_type": "code",
      "source": [
        "regex_to_take_tokens"
      ],
      "metadata": {
        "colab": {
          "base_uri": "https://localhost:8080/",
          "height": 35
        },
        "id": "FWkwYIIXu0lS",
        "outputId": "9917bd48-a360-4cb2-b68e-8269bf06756b"
      },
      "execution_count": 61,
      "outputs": [
        {
          "output_type": "execute_result",
          "data": {
            "text/plain": [
              "'\\\\$\\\\d+(?:\\\\,\\\\d{3})?(?:\\\\.\\\\d+)?\\\\s?(?:trln|bn|mn|th|trillion|billion|million|thousand)?|\\\\d+(?:kg|mg|g|t)|[^\\\\s]+'"
            ],
            "application/vnd.google.colaboratory.intrinsic+json": {
              "type": "string"
            }
          },
          "metadata": {},
          "execution_count": 61
        }
      ]
    },
    {
      "cell_type": "code",
      "source": [
        "test_example_bucks"
      ],
      "metadata": {
        "colab": {
          "base_uri": "https://localhost:8080/",
          "height": 53
        },
        "id": "Tsj5gaIIt5y2",
        "outputId": "3eac2420-1025-4d68-b4ee-7e6082133be8"
      },
      "execution_count": 66,
      "outputs": [
        {
          "output_type": "execute_result",
          "data": {
            "text/plain": [
              "'European/US private equity consortium buys Intelsat in deal valued at \\\\$5bn. An unusual alliance of US and European private equity firms has won the auction to buy Bermuda-based satellite business Intelsat. Europeans Apax and Permira and US firms Apollo Management and Madison Dearborn will pay \\\\$3bn for the business and assume \\\\$2bn ...'"
            ],
            "application/vnd.google.colaboratory.intrinsic+json": {
              "type": "string"
            }
          },
          "metadata": {},
          "execution_count": 66
        }
      ]
    },
    {
      "cell_type": "code",
      "source": [
        "final_result = re.findall(regex_to_take_tokens, test_example_bucks + 'valued at \\\\$5 bn. $5 billion $5 billion $5 thousand An unusual alliance') \n",
        "# чёт не то, доделать (почему $5 bn в два токена бьётся)"
      ],
      "metadata": {
        "id": "to1ka2D6ucxk"
      },
      "execution_count": 70,
      "outputs": []
    },
    {
      "cell_type": "code",
      "source": [
        "final_result"
      ],
      "metadata": {
        "colab": {
          "base_uri": "https://localhost:8080/"
        },
        "id": "c_Ky6WZ1ur9b",
        "outputId": "f5943ca1-7141-4467-de24-0aa33ee2235d"
      },
      "execution_count": 71,
      "outputs": [
        {
          "output_type": "execute_result",
          "data": {
            "text/plain": [
              "['European/US',\n",
              " 'private',\n",
              " 'equity',\n",
              " 'consortium',\n",
              " 'buys',\n",
              " 'Intelsat',\n",
              " 'in',\n",
              " 'deal',\n",
              " 'valued',\n",
              " 'at',\n",
              " '\\\\$5bn.',\n",
              " 'An',\n",
              " 'unusual',\n",
              " 'alliance',\n",
              " 'of',\n",
              " 'US',\n",
              " 'and',\n",
              " 'European',\n",
              " 'private',\n",
              " 'equity',\n",
              " 'firms',\n",
              " 'has',\n",
              " 'won',\n",
              " 'the',\n",
              " 'auction',\n",
              " 'to',\n",
              " 'buy',\n",
              " 'Bermuda-based',\n",
              " 'satellite',\n",
              " 'business',\n",
              " 'Intelsat.',\n",
              " 'Europeans',\n",
              " 'Apax',\n",
              " 'and',\n",
              " 'Permira',\n",
              " 'and',\n",
              " 'US',\n",
              " 'firms',\n",
              " 'Apollo',\n",
              " 'Management',\n",
              " 'and',\n",
              " 'Madison',\n",
              " 'Dearborn',\n",
              " 'will',\n",
              " 'pay',\n",
              " '\\\\$3bn',\n",
              " 'for',\n",
              " 'the',\n",
              " 'business',\n",
              " 'and',\n",
              " 'assume',\n",
              " '\\\\$2bn',\n",
              " '...valued',\n",
              " 'at',\n",
              " '\\\\$5',\n",
              " 'bn.',\n",
              " '$5 billion',\n",
              " '$5 billion',\n",
              " '$5 thousand',\n",
              " 'An',\n",
              " 'unusual',\n",
              " 'alliance']"
            ]
          },
          "metadata": {},
          "execution_count": 71
        }
      ]
    },
    {
      "cell_type": "markdown",
      "source": [
        "# Песочница"
      ],
      "metadata": {
        "id": "dwweuCxjr_XS"
      }
    },
    {
      "cell_type": "code",
      "source": [
        "dummy_word_regex = r'[\\s]+'\n",
        "dummy_split = re.split(dummy_word_regex, test_example_weight)"
      ],
      "metadata": {
        "id": "aM4S8RgXrRUS"
      },
      "execution_count": 52,
      "outputs": []
    },
    {
      "cell_type": "code",
      "source": [
        "dummy_split"
      ],
      "metadata": {
        "colab": {
          "base_uri": "https://localhost:8080/"
        },
        "id": "CXaBaQaer0xx",
        "outputId": "57d1d176-5c9e-4fcc-e0d3-23a37ae43e31"
      },
      "execution_count": 53,
      "outputs": [
        {
          "output_type": "execute_result",
          "data": {
            "text/plain": [
              "['Iliadis',\n",
              " 'Takes',\n",
              " 'Greece',\n",
              " '#39;s',\n",
              " 'Second',\n",
              " 'Gold',\n",
              " 'with',\n",
              " 'Judo',\n",
              " 'Win.',\n",
              " 'ATHENS',\n",
              " '(Reuters)',\n",
              " '-',\n",
              " 'Greek',\n",
              " 'teenager',\n",
              " 'Ilias',\n",
              " 'Iliadis',\n",
              " 'swept',\n",
              " 'up',\n",
              " 'the',\n",
              " 'Olympic',\n",
              " 'host',\n",
              " 'country',\n",
              " '#39;s',\n",
              " 'second',\n",
              " 'gold',\n",
              " 'medal',\n",
              " 'on',\n",
              " 'Tuesday,',\n",
              " 'winning',\n",
              " 'the',\n",
              " 'men',\n",
              " '#39;s',\n",
              " 'judo',\n",
              " 'under',\n",
              " '81kg',\n",
              " 'category.',\n",
              " '']"
            ]
          },
          "metadata": {},
          "execution_count": 53
        }
      ]
    }
  ]
}