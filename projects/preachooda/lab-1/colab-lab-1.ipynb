{
  "nbformat": 4,
  "nbformat_minor": 0,
  "metadata": {
    "colab": {
      "provenance": []
    },
    "kernelspec": {
      "name": "python3",
      "display_name": "Python 3"
    },
    "language_info": {
      "name": "python"
    }
  },
  "cells": [
    {
      "cell_type": "code",
      "execution_count": 1,
      "metadata": {
        "colab": {
          "base_uri": "https://localhost:8080/"
        },
        "id": "Erellnuc4aW7",
        "outputId": "4e5d00d4-ea36-486c-91e8-8dffa6423c8c"
      },
      "outputs": [
        {
          "output_type": "stream",
          "name": "stdout",
          "text": [
            "Python 3.9.16\n"
          ]
        }
      ],
      "source": [
        "!python --version"
      ]
    },
    {
      "cell_type": "code",
      "source": [
        "from google.colab import drive\n",
        "\n",
        "drive.mount('/content/gdrive')\n",
        "\n",
        "train_url = 'gdrive/My Drive/Colab Notebooks/nlp-2023/train.csv'\n",
        "test_url = 'gdrive/My Drive/Colab Notebooks/nlp-2023/test.csv'"
      ],
      "metadata": {
        "colab": {
          "base_uri": "https://localhost:8080/"
        },
        "id": "IO2MFOvddjPQ",
        "outputId": "bcf26edc-f697-4c64-e7d3-f08bfe4d1494"
      },
      "execution_count": 2,
      "outputs": [
        {
          "output_type": "stream",
          "name": "stdout",
          "text": [
            "Mounted at /content/gdrive\n"
          ]
        }
      ]
    },
    {
      "cell_type": "code",
      "source": [
        "from nltk.stem import SnowballStemmer\n",
        "from nltk.stem import WordNetLemmatizer\n",
        "snowball_stemmer_obj = SnowballStemmer(\"english\")\n",
        "lemmatizer = WordNetLemmatizer()"
      ],
      "metadata": {
        "id": "GNMVeDTG5aF9"
      },
      "execution_count": 3,
      "outputs": []
    },
    {
      "cell_type": "code",
      "source": [
        "import pandas as pd\n",
        "df_train = pd.read_csv(train_url)\n",
        "df_test = pd.read_csv(test_url)"
      ],
      "metadata": {
        "id": "M82NzQ54ePiK"
      },
      "execution_count": 4,
      "outputs": []
    },
    {
      "cell_type": "code",
      "source": [
        "df_train"
      ],
      "metadata": {
        "colab": {
          "base_uri": "https://localhost:8080/",
          "height": 424
        },
        "id": "jnrElDr-ebXK",
        "outputId": "c818a452-79f3-4d05-8cae-226930910689"
      },
      "execution_count": 5,
      "outputs": [
        {
          "output_type": "execute_result",
          "data": {
            "text/plain": [
              "        class                                              title  \\\n",
              "0           3  Wall St. Bears Claw Back Into the Black (Reuters)   \n",
              "1           3  Carlyle Looks Toward Commercial Aerospace (Reu...   \n",
              "2           3    Oil and Economy Cloud Stocks' Outlook (Reuters)   \n",
              "3           3  Iraq Halts Oil Exports from Main Southern Pipe...   \n",
              "4           3  Oil prices soar to all-time record, posing new...   \n",
              "...       ...                                                ...   \n",
              "119995      1  Pakistan's Musharraf Says Won't Quit as Army C...   \n",
              "119996      2                  Renteria signing a top-shelf deal   \n",
              "119997      2                    Saban not going to Dolphins yet   \n",
              "119998      2                                  Today's NFL games   \n",
              "119999      2                       Nets get Carter from Raptors   \n",
              "\n",
              "                                                     text  \n",
              "0       Reuters - Short-sellers, Wall Street's dwindli...  \n",
              "1       Reuters - Private investment firm Carlyle Grou...  \n",
              "2       Reuters - Soaring crude prices plus worries\\ab...  \n",
              "3       Reuters - Authorities have halted oil export\\f...  \n",
              "4       AFP - Tearaway world oil prices, toppling reco...  \n",
              "...                                                   ...  \n",
              "119995   KARACHI (Reuters) - Pakistani President Perve...  \n",
              "119996  Red Sox general manager Theo Epstein acknowled...  \n",
              "119997  The Miami Dolphins will put their courtship of...  \n",
              "119998  PITTSBURGH at NY GIANTS Time: 1:30 p.m. Line: ...  \n",
              "119999  INDIANAPOLIS -- All-Star Vince Carter was trad...  \n",
              "\n",
              "[120000 rows x 3 columns]"
            ],
            "text/html": [
              "\n",
              "  <div id=\"df-838ec9d5-0fd7-496a-8564-4b41025da810\">\n",
              "    <div class=\"colab-df-container\">\n",
              "      <div>\n",
              "<style scoped>\n",
              "    .dataframe tbody tr th:only-of-type {\n",
              "        vertical-align: middle;\n",
              "    }\n",
              "\n",
              "    .dataframe tbody tr th {\n",
              "        vertical-align: top;\n",
              "    }\n",
              "\n",
              "    .dataframe thead th {\n",
              "        text-align: right;\n",
              "    }\n",
              "</style>\n",
              "<table border=\"1\" class=\"dataframe\">\n",
              "  <thead>\n",
              "    <tr style=\"text-align: right;\">\n",
              "      <th></th>\n",
              "      <th>class</th>\n",
              "      <th>title</th>\n",
              "      <th>text</th>\n",
              "    </tr>\n",
              "  </thead>\n",
              "  <tbody>\n",
              "    <tr>\n",
              "      <th>0</th>\n",
              "      <td>3</td>\n",
              "      <td>Wall St. Bears Claw Back Into the Black (Reuters)</td>\n",
              "      <td>Reuters - Short-sellers, Wall Street's dwindli...</td>\n",
              "    </tr>\n",
              "    <tr>\n",
              "      <th>1</th>\n",
              "      <td>3</td>\n",
              "      <td>Carlyle Looks Toward Commercial Aerospace (Reu...</td>\n",
              "      <td>Reuters - Private investment firm Carlyle Grou...</td>\n",
              "    </tr>\n",
              "    <tr>\n",
              "      <th>2</th>\n",
              "      <td>3</td>\n",
              "      <td>Oil and Economy Cloud Stocks' Outlook (Reuters)</td>\n",
              "      <td>Reuters - Soaring crude prices plus worries\\ab...</td>\n",
              "    </tr>\n",
              "    <tr>\n",
              "      <th>3</th>\n",
              "      <td>3</td>\n",
              "      <td>Iraq Halts Oil Exports from Main Southern Pipe...</td>\n",
              "      <td>Reuters - Authorities have halted oil export\\f...</td>\n",
              "    </tr>\n",
              "    <tr>\n",
              "      <th>4</th>\n",
              "      <td>3</td>\n",
              "      <td>Oil prices soar to all-time record, posing new...</td>\n",
              "      <td>AFP - Tearaway world oil prices, toppling reco...</td>\n",
              "    </tr>\n",
              "    <tr>\n",
              "      <th>...</th>\n",
              "      <td>...</td>\n",
              "      <td>...</td>\n",
              "      <td>...</td>\n",
              "    </tr>\n",
              "    <tr>\n",
              "      <th>119995</th>\n",
              "      <td>1</td>\n",
              "      <td>Pakistan's Musharraf Says Won't Quit as Army C...</td>\n",
              "      <td>KARACHI (Reuters) - Pakistani President Perve...</td>\n",
              "    </tr>\n",
              "    <tr>\n",
              "      <th>119996</th>\n",
              "      <td>2</td>\n",
              "      <td>Renteria signing a top-shelf deal</td>\n",
              "      <td>Red Sox general manager Theo Epstein acknowled...</td>\n",
              "    </tr>\n",
              "    <tr>\n",
              "      <th>119997</th>\n",
              "      <td>2</td>\n",
              "      <td>Saban not going to Dolphins yet</td>\n",
              "      <td>The Miami Dolphins will put their courtship of...</td>\n",
              "    </tr>\n",
              "    <tr>\n",
              "      <th>119998</th>\n",
              "      <td>2</td>\n",
              "      <td>Today's NFL games</td>\n",
              "      <td>PITTSBURGH at NY GIANTS Time: 1:30 p.m. Line: ...</td>\n",
              "    </tr>\n",
              "    <tr>\n",
              "      <th>119999</th>\n",
              "      <td>2</td>\n",
              "      <td>Nets get Carter from Raptors</td>\n",
              "      <td>INDIANAPOLIS -- All-Star Vince Carter was trad...</td>\n",
              "    </tr>\n",
              "  </tbody>\n",
              "</table>\n",
              "<p>120000 rows × 3 columns</p>\n",
              "</div>\n",
              "      <button class=\"colab-df-convert\" onclick=\"convertToInteractive('df-838ec9d5-0fd7-496a-8564-4b41025da810')\"\n",
              "              title=\"Convert this dataframe to an interactive table.\"\n",
              "              style=\"display:none;\">\n",
              "        \n",
              "  <svg xmlns=\"http://www.w3.org/2000/svg\" height=\"24px\"viewBox=\"0 0 24 24\"\n",
              "       width=\"24px\">\n",
              "    <path d=\"M0 0h24v24H0V0z\" fill=\"none\"/>\n",
              "    <path d=\"M18.56 5.44l.94 2.06.94-2.06 2.06-.94-2.06-.94-.94-2.06-.94 2.06-2.06.94zm-11 1L8.5 8.5l.94-2.06 2.06-.94-2.06-.94L8.5 2.5l-.94 2.06-2.06.94zm10 10l.94 2.06.94-2.06 2.06-.94-2.06-.94-.94-2.06-.94 2.06-2.06.94z\"/><path d=\"M17.41 7.96l-1.37-1.37c-.4-.4-.92-.59-1.43-.59-.52 0-1.04.2-1.43.59L10.3 9.45l-7.72 7.72c-.78.78-.78 2.05 0 2.83L4 21.41c.39.39.9.59 1.41.59.51 0 1.02-.2 1.41-.59l7.78-7.78 2.81-2.81c.8-.78.8-2.07 0-2.86zM5.41 20L4 18.59l7.72-7.72 1.47 1.35L5.41 20z\"/>\n",
              "  </svg>\n",
              "      </button>\n",
              "      \n",
              "  <style>\n",
              "    .colab-df-container {\n",
              "      display:flex;\n",
              "      flex-wrap:wrap;\n",
              "      gap: 12px;\n",
              "    }\n",
              "\n",
              "    .colab-df-convert {\n",
              "      background-color: #E8F0FE;\n",
              "      border: none;\n",
              "      border-radius: 50%;\n",
              "      cursor: pointer;\n",
              "      display: none;\n",
              "      fill: #1967D2;\n",
              "      height: 32px;\n",
              "      padding: 0 0 0 0;\n",
              "      width: 32px;\n",
              "    }\n",
              "\n",
              "    .colab-df-convert:hover {\n",
              "      background-color: #E2EBFA;\n",
              "      box-shadow: 0px 1px 2px rgba(60, 64, 67, 0.3), 0px 1px 3px 1px rgba(60, 64, 67, 0.15);\n",
              "      fill: #174EA6;\n",
              "    }\n",
              "\n",
              "    [theme=dark] .colab-df-convert {\n",
              "      background-color: #3B4455;\n",
              "      fill: #D2E3FC;\n",
              "    }\n",
              "\n",
              "    [theme=dark] .colab-df-convert:hover {\n",
              "      background-color: #434B5C;\n",
              "      box-shadow: 0px 1px 3px 1px rgba(0, 0, 0, 0.15);\n",
              "      filter: drop-shadow(0px 1px 2px rgba(0, 0, 0, 0.3));\n",
              "      fill: #FFFFFF;\n",
              "    }\n",
              "  </style>\n",
              "\n",
              "      <script>\n",
              "        const buttonEl =\n",
              "          document.querySelector('#df-838ec9d5-0fd7-496a-8564-4b41025da810 button.colab-df-convert');\n",
              "        buttonEl.style.display =\n",
              "          google.colab.kernel.accessAllowed ? 'block' : 'none';\n",
              "\n",
              "        async function convertToInteractive(key) {\n",
              "          const element = document.querySelector('#df-838ec9d5-0fd7-496a-8564-4b41025da810');\n",
              "          const dataTable =\n",
              "            await google.colab.kernel.invokeFunction('convertToInteractive',\n",
              "                                                     [key], {});\n",
              "          if (!dataTable) return;\n",
              "\n",
              "          const docLinkHtml = 'Like what you see? Visit the ' +\n",
              "            '<a target=\"_blank\" href=https://colab.research.google.com/notebooks/data_table.ipynb>data table notebook</a>'\n",
              "            + ' to learn more about interactive tables.';\n",
              "          element.innerHTML = '';\n",
              "          dataTable['output_type'] = 'display_data';\n",
              "          await google.colab.output.renderOutput(dataTable, element);\n",
              "          const docLink = document.createElement('div');\n",
              "          docLink.innerHTML = docLinkHtml;\n",
              "          element.appendChild(docLink);\n",
              "        }\n",
              "      </script>\n",
              "    </div>\n",
              "  </div>\n",
              "  "
            ]
          },
          "metadata": {},
          "execution_count": 5
        }
      ]
    },
    {
      "cell_type": "code",
      "source": [
        "# TODO - make two dimensianal container for tokens [sentence_index, token_index]\n",
        "# TODO - regex\n",
        "# TODO - ' #39;' - is an apostrophe symbol, replace this sequence with it"
      ],
      "metadata": {
        "id": "Oxxh2sEvHt_4"
      },
      "execution_count": 6,
      "outputs": []
    },
    {
      "cell_type": "code",
      "source": [
        "import re # https://docs-python.ru/standart-library/modul-re-python/sintaksis-reguljarnogo-vyrazhenija/\n",
        "\n",
        "# regesы расположены в порядке приоритета\n",
        "\n",
        "# $15trln ; $15 trln ; $15,000 ; $15 ; $15.2 ; $1.8bn ; $1 mn ; $0.49 ; $1.033 billion\n",
        "money_in_bucks_regex = r'\\$\\d+(?:\\,\\d{3})?(?:\\.\\d+)?\\s?(?:trillion|billion|million|thousand|trln|bn|mn|th)?'\n",
        "# телефоны - The phone number for the New York sports desk is (212) 621-1630 ; (800-838-4616) ; \n",
        "phone_regex = r'\\({1}\\d{10}\\){1}|\\({0,1}\\d{3}[\\-\\s]\\d{3}[\\-\\s]\\d{4}\\){0,1}|\\(\\d{3}\\)\\s\\d{3}-\\d{4}|\\({1}\\d{3}-\\d{3}-\\d{4}\\){1}'\n",
        "# дата - Aug. 17 ; Aug 17 ; Jan. 2000 ; 5-Feb-2019 ; 05/02/2019 ; 05-02-19 ; 05.02.2019 ;  5 Feb 2019 ; 5 Feb. 19 ; 5 February 19 ; Feb. 1, 2003\n",
        "date_regex = r'[0-9]{0,2}[.\\-\\s]{0,1}January\\.?[.\\-\\s]{0,1}[0-9]{1,4}|[0-9]{0,2}[.\\-\\s]{0,1}February\\.?[.\\-\\s]{0,1}[0-9]{1,4}|[0-9]{0,2}[.\\-\\s]{0,1}March\\.?[.\\-\\s]{0,1}[0-9]{1,4}|[0-9]{0,2}[.\\-\\s]{0,1}April\\.?[.\\-\\s]{0,1}[0-9]{1,4}|[0-9]{0,2}[.\\-\\s]{0,1}May\\.?[.\\-\\s]{0,1}[0-9]{1,4}|[0-9]{0,2}[.\\-\\s]{0,1}June\\.?[.\\-\\s]{0,1}[0-9]{1,4}|[0-9]{0,2}[.\\-\\s]{0,1}July\\.?[.\\-\\s]{0,1}[0-9]{1,4}|[0-9]{0,2}[.\\-\\s]{0,1}August\\.?[.\\-\\s]{0,1}[0-9]{1,4}|[0-9]{0,2}[.\\-\\s]{0,1}September\\.?[.\\-\\s]{0,1}[0-9]{1,4}|[0-9]{0,2}[.\\-\\s]{0,1}October\\.?[.\\-\\s]{0,1}[0-9]{1,4}|[0-9]{0,2}[.\\-\\s]{0,1}November\\.?[.\\-\\s]{0,1}[0-9]{1,4}|[0-9]{0,2}[.\\-\\s]{0,1}December\\.?[.\\-\\s]{0,1}[0-9]{1,4}|[0-9]{0,2}[.\\-\\s]{0,1}Jan\\.?[.\\-\\s]{0,1}[0-9]{1,4}|[0-9]{0,2}[.\\-\\s]{0,1}Feb\\.?[.\\-\\s]{0,1}[0-9]{1,4}|[0-9]{0,2}[.\\-\\s]{0,1}Mar\\.?[.\\-\\s]{0,1}[0-9]{1,4}|[0-9]{0,2}[.\\-\\s]{0,1}Apr\\.?[.\\-\\s]{0,1}[0-9]{1,4}|[0-9]{0,2}[.\\-\\s]{0,1}May\\.?[.\\-\\s]{0,1}[0-9]{1,4}|[0-9]{0,2}[.\\-\\s]{0,1}Jun\\.?[.\\-\\s]{0,1}[0-9]{1,4}|[0-9]{0,2}[.\\-\\s]{0,1}Jul\\.?[.\\-\\s]{0,1}[0-9]{1,4}|[0-9]{0,2}[.\\-\\s]{0,1}Aug\\.?[.\\-\\s]{0,1}[0-9]{1,4}|[0-9]{0,2}[.\\-\\s]{0,1}Sep\\.?[.\\-\\s]{0,1}[0-9]{1,4}|[0-9]{0,2}[.\\-\\s]{0,1}Oct\\.?[.\\-\\s]{0,1}[0-9]{1,4}|[0-9]{0,2}[.\\-\\s]{0,1}Nov\\.?[.\\-\\s]{0,1}[0-9]{1,4}|[0-9]{0,2}[.\\-\\s]{0,1}Dec\\.?[.\\-\\s]{0,1}[0-9]{1,4}|[0-9]{2}[\\-.\\/][0-9]{2}[\\-.\\/][0-9]{2,4}'\n",
        "# время - 1:54.04 ; 1:30 pm ; 9:03 ; 00:00:00 ; 3:15 a.m.\n",
        "time_regex = r'\\d{0,2}:{0,1}\\d{0,2}:{0,1}\\d{2}\\.{0,1}\\d{0,3}\\s{0,1}pm|\\d{0,2}:{0,1}\\d{0,2}:{0,1}\\d{2}\\.{0,1}\\d{0,3}\\s{0,1}p\\.m\\.|\\d{0,2}:{0,1}\\d{0,2}:{0,1}\\d{2}\\.{0,1}\\d{0,3}\\s{0,1}am|\\d{0,2}:{0,1}\\d{0,2}:{0,1}\\d{2}\\.{0,1}\\d{0,3}\\s{0,1}a\\.m\\.|\\d{0,2}:{0,1}\\d{0,2}:{0,1}\\d{2}\\.{0,1}\\d{0,3}\\s{0,1}'\n",
        "# 81kg ; 1 km\n",
        "unit_of_measure_regex = r'\\d{1,}\\.?\\d?\\s?kg|\\d{1,}\\.?\\d?\\s?mg|\\d{1,}\\.?\\d?\\s?g|\\d{1,}\\.?\\d?\\s?t|\\d{1,}\\.?\\d?\\s?ton|\\d{1,}\\.?\\d?\\s?in|\\d{1,}\\.?\\d?\\s?ft|\\d{1,}\\.?\\d?\\s?yard|\\d{1,}\\.?\\d?\\s?mile|\\d{1,}\\.?\\d?\\s?m|\\d{1,}\\.?\\d?\\s?cm|\\d{1,}\\.?\\d?\\s?km|\\d{1,}\\.?\\d?\\s?mm|\\d{1,}\\.?\\d?\\s?oz|\\d{1,}\\.?\\d?\\s?lb|\\d{1,}\\.?\\d?\\s?l|\\d{1,}\\.?\\d?\\s?gal|\\d{1,}\\.?\\d?\\s?pt|\\d{1,}\\.?\\d?\\s?C|\\d{1,}\\.?\\d?\\s?F|\\d{1,}\\.?\\d?\\s?K|\\d{1,}\\.?\\d?\\s?W|\\d{1,}\\.?\\d?\\s?bar|\\d{1,}\\.?\\d?\\s?a|\\d{1,}\\.?\\d?\\s?ha|\\d{1,}\\.?\\d?\\s?Hz|\\d{1,}\\.?\\d?\\s?GHz|\\d{1,}\\.?\\d?\\s?J|\\d{1,}\\.?\\d?\\s?kW|\\d{1,}\\.?\\d?\\s?s|\\d{1,}\\.?\\d?\\s?ms|\\d{1,}\\.?\\d?\\s?ns|\\d{1,}\\.?\\d?\\s?h|\\d{1,}\\.?\\d?\\s?q|\\d{1,}\\.?\\d?\\s?rad|\\d{1,}\\.?\\d?\\s?Pa|\\d{1,}\\.?\\d?\\s?pc|\\d{1,}\\.?\\d?\\s?N|\\d{1,}\\.?\\d?\\s?min|\\d{1,}\\.?\\d?\\s?A|\\d{1,}\\.?\\d?\\s?V|\\d{1,}\\.?\\d?\\s?GW|\\d{1,}\\.?\\d?\\s?MW|\\d{1,}\\.?\\d?\\s?TW|\\d{1,}\\.?\\d?\\s?C|\\d{1,}\\.?\\d?\\s?Mx|\\d{1,}\\.?\\d?\\s?MeV|\\d{1,}\\.?\\d?\\s?cd|\\d{1,}\\.?\\d?\\s?lx|\\d{1,}\\.?\\d?\\s?lm'\n",
        "# email - bebra-shmebrikovna.reks3-4-4@yarus34.ru\n",
        "email_address_regex = r'(?:[A-z0-9\\-]+\\.{0,1})+[A-z0-9]@(?:[A-z0-9]+\\.){1,}[A-z0-9]{1,6}' #r'([A-z0-9!#$%&\\'*+\\-\\/=?^_`{|}~]+\\.?)+[A-z0-9!#$%&\\'*+\\-\\/=?^_`{|}~]+@([A-z0-9]+\\.)+[A-z0-9]{1,6}'\n",
        "# веб-адреса - http://yourap.org/ ; For-Side.com ; https://colab.research.google.com/drive/1d3ge137zLqANxnbj4XVU0GGc9_IwDfIg?authuser=1#scrollTo=eeeGeDtM5NqW\n",
        "web_address_regex = r'https?:\\/\\/{0,1}[w]{0,3}\\.{0,1}(?:[A-z0-9]+\\.){1,}[A-z0-9]{1,6}(?:\\/[A-z0-9]{1,}){0,}'\n",
        "# компании с сокращениями - Google inc. ; General Motors Corp. ; Halliburton Co. ; Louisiana-Pacific Corp.\n",
        "company_name_regex = r'(?:[A-Z][a-z]*(?:-|\\s)?)+\\s(?:[Ii]nc.|[Cc]orp.|[Ll]td|[Pp]lc\\.|Co\\.)'\n",
        "# номер - No. 21 ; 42 carries, leading No. 12 Kansas State to a season-opening. ;  leading No. 3 Georgia \n",
        "no_regex = r'[Nn]o.\\s?\\d+'\n",
        "# сокращения через точку - M.V.P. ; S.E.C.\n",
        "shorts_regex = r'(?:[A-Z][a-z]{0,2}\\.)+'\n",
        "# TODO - пунктуация(тоже выносим в токены) - \" - \" __ \": \" __ \"; \" __ \"! \" __ \"? \" __ \". \" __ \", \" ___ \"...\"\n",
        "punctuation_regex = r'[.!?\\\\\\-;:(...)]'\n",
        "# для разделения по рпобелам\n",
        "not_space_regex = r'[^\\s]+' # any not space symbol sequence\n",
        "\n",
        "\n",
        "# сплит по предложениям\n",
        "sentence_split_regex = r'(?<!\\w\\.\\w.)(?<![A-Z][a-z]\\.)(?<=\\.|\\?|!)\\s(?![a-z])'\n",
        "# для замены кода доллара на его знак\n",
        "dollar_code_sub_regex = r'(#36;|\\\\\\$)'\n",
        "# очистка от мусора заменой на пробел\n",
        "clear_sub_regex = r'(\\\\\\\\|\\s-{2}\\s|\\s\\\\*\\s)'\n",
        "\n",
        "          # TODO - убрать мусор в виде \\\\ и прочих не несущих смысла знаков\n",
        "\n",
        "# распределить по приоритету, вроде бы та регулярка что идёт первее, матчится в первую очередь\n",
        "regex_to_take_tokens = money_in_bucks_regex + '|' + phone_regex + '|' + date_regex + '|' + time_regex + '|' + email_address_regex + '|' + web_address_regex + '|' + company_name_regex + '|' + no_regex + '|' + shorts_regex + '|' + punctuation_regex + '|' + not_space_regex"
      ],
      "metadata": {
        "id": "eeeGeDtM5NqW"
      },
      "execution_count": 64,
      "outputs": []
    },
    {
      "cell_type": "code",
      "source": [
        "current_test = '# $15trln ; $15 trln ; $15,000 ; $15 ; $15.2 ; $1.8bn ; $1 mn ; $0.49 ; $1.033 billion # 81kg ; 1 km # телефоны - The phone number for the New York sports desk is (212) 621-1630 ; (800-838-4616) ;  # дата - Aug. 17 ; Aug 17 ; Jan. 2000 ; 5-Feb-2019 ; 05/02/2019 ; 05-02-19 ; 05.02.2019 ;  5 Feb 2019 ; 5 Feb. 19 ; 5 February 19 ;  # время - 1:54.04 ; 1:30 pm ; 9:03 ; 00:00:00 ; 3:15 a.m. # веб-адреса - http://yourap.org/ ; For-Side.com ; https://colab.research.google.com/dfghldkfjhgld/dfgjlkdkjf/798df # компании с сокращениями - Google inc. ; General Motors Corp. ; Halliburton Co. ; Louisiana-Pacific Corp. # email - bebra-shmebrikovna.reks3-4-4@yarus34.ru # код цвета - #666666 # номер - No. 21 ; 42 carries, leading No. 12 Kansas State to a season-opening. ;  leading No. 3 Georgia  # сокращения через точку - M.V.P. ; S.E.C. # TODO - пунктуация(тоже выносим в токены) - \" - \" __ \": \" __ \"; \" __ \"! \" __ \"? \" __ \". \" __ \", \" ___ \"...\"'\n",
        "res = re.findall(regex_to_take_tokens, current_test)"
      ],
      "metadata": {
        "id": "qcv772OsYbmU"
      },
      "execution_count": 68,
      "outputs": []
    },
    {
      "cell_type": "code",
      "source": [
        "res"
      ],
      "metadata": {
        "colab": {
          "base_uri": "https://localhost:8080/"
        },
        "id": "YwXLZTk5WAiA",
        "outputId": "d1ba583e-5f67-4ab1-9a74-239c86f962db"
      },
      "execution_count": 69,
      "outputs": [
        {
          "output_type": "execute_result",
          "data": {
            "text/plain": [
              "['#',\n",
              " '$15trln',\n",
              " ';',\n",
              " '$15 trln',\n",
              " ';',\n",
              " '$15,000 ',\n",
              " ';',\n",
              " '$15 ',\n",
              " ';',\n",
              " '$15.2 ',\n",
              " ';',\n",
              " '$1.8bn',\n",
              " ';',\n",
              " '$1 mn',\n",
              " ';',\n",
              " '$0.49 ',\n",
              " ';',\n",
              " '$1.033 billion',\n",
              " '#',\n",
              " '81',\n",
              " 'kg',\n",
              " ';',\n",
              " '1',\n",
              " 'km',\n",
              " '#',\n",
              " 'телефоны',\n",
              " '-',\n",
              " 'The',\n",
              " 'phone',\n",
              " 'number',\n",
              " 'for',\n",
              " 'the',\n",
              " 'New',\n",
              " 'York',\n",
              " 'sports',\n",
              " 'desk',\n",
              " 'is',\n",
              " '(212) 621-1630',\n",
              " ';',\n",
              " '(800-838-4616)',\n",
              " ';',\n",
              " '#',\n",
              " 'дата',\n",
              " '-',\n",
              " ' Aug. 17',\n",
              " ';',\n",
              " ' Aug 17',\n",
              " ';',\n",
              " ' Jan. 2000',\n",
              " ';',\n",
              " '5-Feb-2019',\n",
              " ';',\n",
              " '05/02/2019',\n",
              " ';',\n",
              " '05-02-19',\n",
              " ';',\n",
              " '05.02.2019',\n",
              " ';',\n",
              " '5 Feb 2019',\n",
              " ';',\n",
              " '5 Feb. 19',\n",
              " ';',\n",
              " '5 February 19',\n",
              " ';',\n",
              " '#',\n",
              " 'время',\n",
              " '-',\n",
              " '1:54.04 ',\n",
              " ';',\n",
              " '1:30 pm',\n",
              " ';',\n",
              " '9:03 ',\n",
              " ';',\n",
              " '00:00:00 ',\n",
              " ';',\n",
              " '3:15 a.m.',\n",
              " '#',\n",
              " 'веб-адреса',\n",
              " '-',\n",
              " 'http://yourap.org',\n",
              " '/',\n",
              " ';',\n",
              " 'For-Side.com',\n",
              " ';',\n",
              " 'https://colab.research.google.com/dfghldkfjhgld/dfgjlkdkjf/798df',\n",
              " '#',\n",
              " 'компании',\n",
              " 'с',\n",
              " 'сокращениями',\n",
              " '-',\n",
              " 'Google inc.',\n",
              " ';',\n",
              " 'General Motors Corp.',\n",
              " ';',\n",
              " 'Halliburton Co.',\n",
              " ';',\n",
              " 'Louisiana-Pacific Corp.',\n",
              " '#',\n",
              " 'email',\n",
              " '-',\n",
              " 'bebra-shmebrikovna.reks3-4-4@yarus34.ru',\n",
              " '#',\n",
              " 'код',\n",
              " 'цвета',\n",
              " '-',\n",
              " '#666666',\n",
              " '#',\n",
              " 'номер',\n",
              " '-',\n",
              " 'No. 21',\n",
              " ';',\n",
              " '42 ',\n",
              " 'carries,',\n",
              " 'leading',\n",
              " 'No. 12',\n",
              " 'Kansas',\n",
              " 'State',\n",
              " 'to',\n",
              " 'a',\n",
              " 'season-opening.',\n",
              " ';',\n",
              " 'leading',\n",
              " 'No. 3',\n",
              " 'Georgia',\n",
              " '#',\n",
              " 'сокращения',\n",
              " 'через',\n",
              " 'точку',\n",
              " '-',\n",
              " 'M.V.P.',\n",
              " ';',\n",
              " 'S.E.C.',\n",
              " '#',\n",
              " 'TODO',\n",
              " '-',\n",
              " 'пунктуация(тоже',\n",
              " 'выносим',\n",
              " 'в',\n",
              " 'токены)',\n",
              " '-',\n",
              " '\"',\n",
              " '-',\n",
              " '\"',\n",
              " '__',\n",
              " '\":',\n",
              " '\"',\n",
              " '__',\n",
              " '\";',\n",
              " '\"',\n",
              " '__',\n",
              " '\"!',\n",
              " '\"',\n",
              " '__',\n",
              " '\"?',\n",
              " '\"',\n",
              " '__',\n",
              " '\".',\n",
              " '\"',\n",
              " '__',\n",
              " '\",',\n",
              " '\"',\n",
              " '___',\n",
              " '\"...\"']"
            ]
          },
          "metadata": {},
          "execution_count": 69
        }
      ]
    },
    {
      "cell_type": "code",
      "source": [
        "test_sentences_split = 'Bebrou girik at 5 a.m. smebrik lorem No.12 tovar No. 4 Gelentwagen! Evil corp. develop notebook? Shark attac on the road just mobile central park for young Trash. Germany vs Chemicals. one of our new categories in the APMF Sense of Place survey is for best Asian business city. After a couple of days, Singapore leads the pack, followed by Bangkok, Thailand and Hong Kong. Enter your vote and comments and make your views count. More new categories include best city for livability, and best tourism destinations.'\n",
        "result = re.split(sentence_split_regex, test_sentences_split)"
      ],
      "metadata": {
        "id": "5ysWyNqvLmlg"
      },
      "execution_count": 10,
      "outputs": []
    },
    {
      "cell_type": "code",
      "source": [
        "result\n",
        "# TODO - проверить все регексы по отдельности"
      ],
      "metadata": {
        "colab": {
          "base_uri": "https://localhost:8080/"
        },
        "id": "3EjDfOckMvNI",
        "outputId": "f2d9e29b-5881-4000-abce-51f25118c7bd"
      },
      "execution_count": 11,
      "outputs": [
        {
          "output_type": "execute_result",
          "data": {
            "text/plain": [
              "['Bebrou girik at 5 a.m. smebrik lorem No.12 tovar No. 4 Gelentwagen!',\n",
              " 'Evil corp. develop notebook?',\n",
              " 'Shark attac on the road just mobile central park for young Trash.',\n",
              " 'Germany vs Chemicals. one of our new categories in the APMF Sense of Place survey is for best Asian business city.',\n",
              " 'After a couple of days, Singapore leads the pack, followed by Bangkok, Thailand and Hong Kong.',\n",
              " 'Enter your vote and comments and make your views count.',\n",
              " 'More new categories include best city for livability, and best tourism destinations.']"
            ]
          },
          "metadata": {},
          "execution_count": 11
        }
      ]
    },
    {
      "cell_type": "markdown",
      "source": [
        "# Проверка регекса баксов"
      ],
      "metadata": {
        "id": "VEs7i72VsXa1"
      }
    },
    {
      "cell_type": "code",
      "source": [
        "test_example_bucks = df_train['title'][1538] + '. ' + df_train['text'][1538]"
      ],
      "metadata": {
        "id": "sTT2xeZvH5Ch"
      },
      "execution_count": 12,
      "outputs": []
    },
    {
      "cell_type": "code",
      "source": [
        "test_example_bucks"
      ],
      "metadata": {
        "colab": {
          "base_uri": "https://localhost:8080/",
          "height": 70
        },
        "id": "-oxJZNT6ICzQ",
        "outputId": "27a49e48-f1c9-46af-dc8e-7eae7b3af523"
      },
      "execution_count": 13,
      "outputs": [
        {
          "output_type": "execute_result",
          "data": {
            "text/plain": [
              "'European/US private equity consortium buys Intelsat in deal valued at \\\\$5bn. An unusual alliance of US and European private equity firms has won the auction to buy Bermuda-based satellite business Intelsat. Europeans Apax and Permira and US firms Apollo Management and Madison Dearborn will pay \\\\$3bn for the business and assume \\\\$2bn ...'"
            ],
            "application/vnd.google.colaboratory.intrinsic+json": {
              "type": "string"
            }
          },
          "metadata": {},
          "execution_count": 13
        }
      ]
    },
    {
      "cell_type": "code",
      "source": [
        "test_result_bucks = re.findall(money_in_bucks_regex, test_example_bucks)"
      ],
      "metadata": {
        "id": "NPqw94s5NWEb"
      },
      "execution_count": 14,
      "outputs": []
    },
    {
      "cell_type": "code",
      "source": [
        "test_result_bucks"
      ],
      "metadata": {
        "colab": {
          "base_uri": "https://localhost:8080/"
        },
        "id": "Pcna66pSNn4k",
        "outputId": "ebcfe82e-9eda-46d2-8a32-3ba03e3b6db4"
      },
      "execution_count": 15,
      "outputs": [
        {
          "output_type": "execute_result",
          "data": {
            "text/plain": [
              "['$5bn', '$3bn', '$2bn']"
            ]
          },
          "metadata": {},
          "execution_count": 15
        }
      ]
    },
    {
      "cell_type": "markdown",
      "source": [
        "# Проверка регекса веса"
      ],
      "metadata": {
        "id": "qhOlNFcAsRaN"
      }
    },
    {
      "cell_type": "code",
      "source": [
        "test_example_weight = df_train['title'][1599] + '. ' + df_train['text'][1599]"
      ],
      "metadata": {
        "id": "L7iR23QssQlm"
      },
      "execution_count": 16,
      "outputs": []
    },
    {
      "cell_type": "code",
      "source": [
        "test_example_weight"
      ],
      "metadata": {
        "colab": {
          "base_uri": "https://localhost:8080/",
          "height": 53
        },
        "id": "N9tFEu9_qLbi",
        "outputId": "f8266000-858f-4609-feaf-3a201e0af56b"
      },
      "execution_count": 17,
      "outputs": [
        {
          "output_type": "execute_result",
          "data": {
            "text/plain": [
              "'Iliadis Takes Greece #39;s Second Gold with Judo Win. ATHENS (Reuters) - Greek teenager Ilias Iliadis swept up the Olympic host country #39;s second gold medal on Tuesday, winning the men #39;s judo under 81kg category. '"
            ],
            "application/vnd.google.colaboratory.intrinsic+json": {
              "type": "string"
            }
          },
          "metadata": {},
          "execution_count": 17
        }
      ]
    },
    {
      "cell_type": "code",
      "source": [
        "test_result_weight = re.findall(unit_of_measure_regex, test_example_weight)"
      ],
      "metadata": {
        "id": "tzVTaOZcpdqy"
      },
      "execution_count": 18,
      "outputs": []
    },
    {
      "cell_type": "code",
      "source": [
        "test_result_weight"
      ],
      "metadata": {
        "colab": {
          "base_uri": "https://localhost:8080/"
        },
        "id": "DSxfsYVTp1Tx",
        "outputId": "a3fa1ad2-5a92-42a1-c80e-71ecfe52b425"
      },
      "execution_count": 19,
      "outputs": [
        {
          "output_type": "execute_result",
          "data": {
            "text/plain": [
              "['81kg']"
            ]
          },
          "metadata": {},
          "execution_count": 19
        }
      ]
    },
    {
      "cell_type": "markdown",
      "source": [
        "# Проверка итогового регекса"
      ],
      "metadata": {
        "id": "XRG93rKntz8-"
      }
    },
    {
      "cell_type": "code",
      "source": [
        "regex_to_take_tokens"
      ],
      "metadata": {
        "colab": {
          "base_uri": "https://localhost:8080/",
          "height": 35
        },
        "id": "FWkwYIIXu0lS",
        "outputId": "6e4ba8cd-44d5-485e-f99b-b9d0a08decb7"
      },
      "execution_count": 20,
      "outputs": [
        {
          "output_type": "execute_result",
          "data": {
            "text/plain": [
              "'\\\\$\\\\d+(?:\\\\,\\\\d{3})?(?:\\\\.\\\\d+)?\\\\s?(?:trillion|billion|million|thousand|trln|bn|mn|th)?|'"
            ],
            "application/vnd.google.colaboratory.intrinsic+json": {
              "type": "string"
            }
          },
          "metadata": {},
          "execution_count": 20
        }
      ]
    },
    {
      "cell_type": "code",
      "source": [
        "test_example_bucks"
      ],
      "metadata": {
        "colab": {
          "base_uri": "https://localhost:8080/",
          "height": 70
        },
        "id": "Tsj5gaIIt5y2",
        "outputId": "51863b10-e50d-4550-cc4a-06a0606c1322"
      },
      "execution_count": 21,
      "outputs": [
        {
          "output_type": "execute_result",
          "data": {
            "text/plain": [
              "'European/US private equity consortium buys Intelsat in deal valued at \\\\$5bn. An unusual alliance of US and European private equity firms has won the auction to buy Bermuda-based satellite business Intelsat. Europeans Apax and Permira and US firms Apollo Management and Madison Dearborn will pay \\\\$3bn for the business and assume \\\\$2bn ...'"
            ],
            "application/vnd.google.colaboratory.intrinsic+json": {
              "type": "string"
            }
          },
          "metadata": {},
          "execution_count": 21
        }
      ]
    },
    {
      "cell_type": "code",
      "source": [
        "final_result = re.findall(regex_to_take_tokens, test_example_bucks + 'valued at \\\\$5 bn. $5 billion $5 billion $5 thousand 456 An unusual alliance 2kg 100 mg') \n",
        "# доделать (почему $5 bn в два токена бьётся, если к итоговому регексу подключать регекс по пробелам, то есть он начинает перехватывать матч)"
      ],
      "metadata": {
        "id": "to1ka2D6ucxk"
      },
      "execution_count": 22,
      "outputs": []
    },
    {
      "cell_type": "code",
      "source": [
        "final_result"
      ],
      "metadata": {
        "colab": {
          "base_uri": "https://localhost:8080/"
        },
        "id": "c_Ky6WZ1ur9b",
        "outputId": "50099e29-ae92-4e5a-cde3-109aea3b8277"
      },
      "execution_count": 23,
      "outputs": [
        {
          "output_type": "execute_result",
          "data": {
            "text/plain": [
              "['',\n",
              " '',\n",
              " '',\n",
              " '',\n",
              " '',\n",
              " '',\n",
              " '',\n",
              " '',\n",
              " '',\n",
              " '',\n",
              " '',\n",
              " '',\n",
              " '',\n",
              " '',\n",
              " '',\n",
              " '',\n",
              " '',\n",
              " '',\n",
              " '',\n",
              " '',\n",
              " '',\n",
              " '',\n",
              " '',\n",
              " '',\n",
              " '',\n",
              " '',\n",
              " '',\n",
              " '',\n",
              " '',\n",
              " '',\n",
              " '',\n",
              " '',\n",
              " '',\n",
              " '',\n",
              " '',\n",
              " '',\n",
              " '',\n",
              " '',\n",
              " '',\n",
              " '',\n",
              " '',\n",
              " '',\n",
              " '',\n",
              " '',\n",
              " '',\n",
              " '',\n",
              " '',\n",
              " '',\n",
              " '',\n",
              " '',\n",
              " '',\n",
              " '',\n",
              " '',\n",
              " '',\n",
              " '',\n",
              " '',\n",
              " '',\n",
              " '',\n",
              " '',\n",
              " '',\n",
              " '',\n",
              " '',\n",
              " '',\n",
              " '',\n",
              " '',\n",
              " '',\n",
              " '',\n",
              " '',\n",
              " '',\n",
              " '',\n",
              " '',\n",
              " '$5bn',\n",
              " '',\n",
              " '',\n",
              " '',\n",
              " '',\n",
              " '',\n",
              " '',\n",
              " '',\n",
              " '',\n",
              " '',\n",
              " '',\n",
              " '',\n",
              " '',\n",
              " '',\n",
              " '',\n",
              " '',\n",
              " '',\n",
              " '',\n",
              " '',\n",
              " '',\n",
              " '',\n",
              " '',\n",
              " '',\n",
              " '',\n",
              " '',\n",
              " '',\n",
              " '',\n",
              " '',\n",
              " '',\n",
              " '',\n",
              " '',\n",
              " '',\n",
              " '',\n",
              " '',\n",
              " '',\n",
              " '',\n",
              " '',\n",
              " '',\n",
              " '',\n",
              " '',\n",
              " '',\n",
              " '',\n",
              " '',\n",
              " '',\n",
              " '',\n",
              " '',\n",
              " '',\n",
              " '',\n",
              " '',\n",
              " '',\n",
              " '',\n",
              " '',\n",
              " '',\n",
              " '',\n",
              " '',\n",
              " '',\n",
              " '',\n",
              " '',\n",
              " '',\n",
              " '',\n",
              " '',\n",
              " '',\n",
              " '',\n",
              " '',\n",
              " '',\n",
              " '',\n",
              " '',\n",
              " '',\n",
              " '',\n",
              " '',\n",
              " '',\n",
              " '',\n",
              " '',\n",
              " '',\n",
              " '',\n",
              " '',\n",
              " '',\n",
              " '',\n",
              " '',\n",
              " '',\n",
              " '',\n",
              " '',\n",
              " '',\n",
              " '',\n",
              " '',\n",
              " '',\n",
              " '',\n",
              " '',\n",
              " '',\n",
              " '',\n",
              " '',\n",
              " '',\n",
              " '',\n",
              " '',\n",
              " '',\n",
              " '',\n",
              " '',\n",
              " '',\n",
              " '',\n",
              " '',\n",
              " '',\n",
              " '',\n",
              " '',\n",
              " '',\n",
              " '',\n",
              " '',\n",
              " '',\n",
              " '',\n",
              " '',\n",
              " '',\n",
              " '',\n",
              " '',\n",
              " '',\n",
              " '',\n",
              " '',\n",
              " '',\n",
              " '',\n",
              " '',\n",
              " '',\n",
              " '',\n",
              " '',\n",
              " '',\n",
              " '',\n",
              " '',\n",
              " '',\n",
              " '',\n",
              " '',\n",
              " '',\n",
              " '',\n",
              " '',\n",
              " '',\n",
              " '',\n",
              " '',\n",
              " '',\n",
              " '',\n",
              " '',\n",
              " '',\n",
              " '',\n",
              " '',\n",
              " '',\n",
              " '',\n",
              " '',\n",
              " '',\n",
              " '',\n",
              " '',\n",
              " '',\n",
              " '',\n",
              " '',\n",
              " '',\n",
              " '',\n",
              " '',\n",
              " '',\n",
              " '',\n",
              " '',\n",
              " '',\n",
              " '',\n",
              " '',\n",
              " '',\n",
              " '',\n",
              " '',\n",
              " '',\n",
              " '',\n",
              " '',\n",
              " '',\n",
              " '',\n",
              " '',\n",
              " '',\n",
              " '',\n",
              " '',\n",
              " '',\n",
              " '',\n",
              " '',\n",
              " '',\n",
              " '',\n",
              " '',\n",
              " '',\n",
              " '',\n",
              " '',\n",
              " '',\n",
              " '',\n",
              " '',\n",
              " '',\n",
              " '',\n",
              " '',\n",
              " '',\n",
              " '',\n",
              " '',\n",
              " '',\n",
              " '',\n",
              " '',\n",
              " '',\n",
              " '',\n",
              " '',\n",
              " '',\n",
              " '',\n",
              " '',\n",
              " '',\n",
              " '',\n",
              " '',\n",
              " '',\n",
              " '',\n",
              " '',\n",
              " '',\n",
              " '',\n",
              " '',\n",
              " '',\n",
              " '',\n",
              " '',\n",
              " '',\n",
              " '',\n",
              " '',\n",
              " '',\n",
              " '',\n",
              " '',\n",
              " '',\n",
              " '',\n",
              " '',\n",
              " '',\n",
              " '',\n",
              " '',\n",
              " '',\n",
              " '',\n",
              " '$3bn',\n",
              " '',\n",
              " '',\n",
              " '',\n",
              " '',\n",
              " '',\n",
              " '',\n",
              " '',\n",
              " '',\n",
              " '',\n",
              " '',\n",
              " '',\n",
              " '',\n",
              " '',\n",
              " '',\n",
              " '',\n",
              " '',\n",
              " '',\n",
              " '',\n",
              " '',\n",
              " '',\n",
              " '',\n",
              " '',\n",
              " '',\n",
              " '',\n",
              " '',\n",
              " '',\n",
              " '',\n",
              " '',\n",
              " '',\n",
              " '',\n",
              " '$2bn',\n",
              " '',\n",
              " '',\n",
              " '',\n",
              " '',\n",
              " '',\n",
              " '',\n",
              " '',\n",
              " '',\n",
              " '',\n",
              " '',\n",
              " '',\n",
              " '',\n",
              " '',\n",
              " '',\n",
              " '',\n",
              " '$5 bn',\n",
              " '',\n",
              " '',\n",
              " '$5 billion',\n",
              " '',\n",
              " '$5 billion',\n",
              " '',\n",
              " '$5 thousand',\n",
              " '',\n",
              " '',\n",
              " '',\n",
              " '',\n",
              " '',\n",
              " '',\n",
              " '',\n",
              " '',\n",
              " '',\n",
              " '',\n",
              " '',\n",
              " '',\n",
              " '',\n",
              " '',\n",
              " '',\n",
              " '',\n",
              " '',\n",
              " '',\n",
              " '',\n",
              " '',\n",
              " '',\n",
              " '',\n",
              " '',\n",
              " '',\n",
              " '',\n",
              " '',\n",
              " '',\n",
              " '',\n",
              " '',\n",
              " '',\n",
              " '',\n",
              " '',\n",
              " '',\n",
              " '',\n",
              " '',\n",
              " '']"
            ]
          },
          "metadata": {},
          "execution_count": 23
        }
      ]
    },
    {
      "cell_type": "markdown",
      "source": [
        "# Токенизация"
      ],
      "metadata": {
        "id": "vmXtXU9FXvJA"
      }
    },
    {
      "cell_type": "code",
      "source": [],
      "metadata": {
        "id": "xXyXCR4uXymw"
      },
      "execution_count": 23,
      "outputs": []
    }
  ]
}